{
  "nbformat": 4,
  "nbformat_minor": 0,
  "metadata": {
    "colab": {
      "name": "Text Distance",
      "provenance": []
    },
    "kernelspec": {
      "name": "python3",
      "display_name": "Python 3"
    }
  },
  "cells": [
    {
      "cell_type": "code",
      "metadata": {
        "id": "0rjLs4af8CXd"
      },
      "source": [
        "# I'm using the advice dataset to test it out since that was most convenient\r\n",
        "with open(\"filtered.txt\", \"r\") as f: lines = f.readlines()\r\n",
        "lines = [line[:-2] for line in lines] # removes the newlines at the end"
      ],
      "execution_count": 5,
      "outputs": []
    },
    {
      "cell_type": "code",
      "metadata": {
        "id": "8hNiMByRNSJa"
      },
      "source": [
        "import tensorflow as tf\r\n",
        "import tensorflow_hub as hub\r\n",
        "import numpy as np\r\n",
        "\r\n",
        "# Load the boi\r\n",
        "module_url = \"https://tfhub.dev/google/universal-sentence-encoder/4\"\r\n",
        "model = hub.load(module_url)"
      ],
      "execution_count": 7,
      "outputs": []
    },
    {
      "cell_type": "code",
      "metadata": {
        "id": "zJ8HSdm-NTNW"
      },
      "source": [
        "# Dot product the embeddings to get simmilarity!\r\n",
        "def get_simmilarity(txts):\r\n",
        "  embeddings = model(txts)\r\n",
        "  return np.inner(embeddings, embeddings)"
      ],
      "execution_count": 8,
      "outputs": []
    },
    {
      "cell_type": "code",
      "metadata": {
        "id": "5ojJpRt3NgHW"
      },
      "source": [
        "# Woop woop\r\n",
        "txts = lines\r\n",
        "scores = get_simmilarity(txts)"
      ],
      "execution_count": 19,
      "outputs": []
    },
    {
      "cell_type": "code",
      "metadata": {
        "id": "RtCrLBe4NTBJ"
      },
      "source": [
        "# maps it to something that makes it easier to read\r\n",
        "processed = {txts[i]: sorted([(txts[j], scores[i][j]) for j in range(len(txts)) if j != i and scores[i][j] > 0.3], key=lambda x: -x[1]) for i in range(len(txts))}"
      ],
      "execution_count": 26,
      "outputs": []
    },
    {
      "cell_type": "code",
      "metadata": {
        "id": "muQta13qNSlI"
      },
      "source": [
        "# logs it to a file because it'll probably take forever to print to console\r\n",
        "with open(\"log.txt\", \"w\") as f:\r\n",
        "  for line in lines:\r\n",
        "    f.write(line + \" \" + str(processed[line]) + \"\\n\")"
      ],
      "execution_count": 28,
      "outputs": []
    }
  ]
}