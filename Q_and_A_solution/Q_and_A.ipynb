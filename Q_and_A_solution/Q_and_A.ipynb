{
 "cells": [
  {
   "cell_type": "code",
   "execution_count": 4,
   "metadata": {
    "id": "0rjLs4af8CXd"
   },
   "outputs": [],
   "source": [
    "# Load the advice dataset\n",
    "with open(\"../data/heyfromthefuture/filtered.txt\", \"r\") as f: lines = f.readlines()\n",
    "lines = [line[:-2] for line in lines] # removes the newlines at the end"
   ]
  },
  {
   "cell_type": "code",
   "execution_count": 2,
   "metadata": {
    "id": "CPDrz63dd6da"
   },
   "outputs": [],
   "source": [
    "!pip3 install tensorflow_text>=2.0.0rc0"
   ]
  },
  {
   "cell_type": "code",
   "execution_count": 5,
   "metadata": {
    "id": "nUeZI9yXd3Tt"
   },
   "outputs": [],
   "source": [
    "import tensorflow as tf\n",
    "import tensorflow_hub as hub\n",
    "import numpy as np\n",
    "import tensorflow_text\n",
    "\n",
    "# Load the model\n",
    "module = hub.load('https://tfhub.dev/google/universal-sentence-encoder-qa/3')"
   ]
  },
  {
   "cell_type": "code",
   "execution_count": 6,
   "metadata": {
    "id": "uI0QG1_FiofS"
   },
   "outputs": [],
   "source": [
    "# Encode advice as responses\n",
    "advice = tf.constant(lines)\n",
    "advice_embeddings = module.signatures['response_encoder'](\n",
    "    input=advice,context=advice) # Not sure what context is supposed to be but\n",
    "                                 # putting the same thing for both seems to work"
   ]
  },
  {
   "cell_type": "code",
   "execution_count": 7,
   "metadata": {
    "id": "40Cy7KXrgby8"
   },
   "outputs": [],
   "source": [
    "# Returns a sorted tuple list with advice and\n",
    "# how \"good\" they are for the given query\n",
    "def ask(query):\n",
    "  # Encode the question (or more aptly an array of the single function)\n",
    "  question_embeddings = module.signatures['question_encoder'](tf.constant([query]))\n",
    "\n",
    "  # Get an array of floats for how \"good\" each adivce is for this query\n",
    "  # We can do this via dot product because math\n",
    "  # (and this is secretly a simmilarity problem)\n",
    "  weights = np.inner(question_embeddings['outputs'],\n",
    "                     advice_embeddings['outputs'])[0] # [0] because just one query\n",
    "\n",
    "  # Returns a sorted tuple list with advice and\n",
    "  # how \"good\" they are for the given query\n",
    "  return sorted([(lines[i], weights[i]) for i in range(len(lines))], key=lambda x: -x[1])"
   ]
  },
  {
   "cell_type": "code",
   "execution_count": 21,
   "metadata": {
    "colab": {
     "base_uri": "https://localhost:8080/"
    },
    "id": "8CxX6sCMg3fO",
    "outputId": "6bd856d9-5554-4105-e735-20d56842307f"
   },
   "outputs": [
    {
     "name": "stdout",
     "output_type": "stream",
     "text": [
      "Hey 21 year old, You're not behind everyone else. Don't be so worried about reaching the next step in life as soon as possible. Travel, explore, have fun. This is the easiest time in your life to be spontaneou\n",
      "Hey 24 year old, love yourself and don't be sad over someone who left you. always have faith and wait for true lov\n",
      "Hey 19 year old, Take pride in your hobbies they will keep you happy on bad day\n",
      "Hey 21 year old, Meet people and engage in activities. It creates opportunities you even haven't imagined of. People are the most important things to nurtur\n",
      "Hey 22 year old, take a deep breath, go for a long walk in the woods (or plant trees for a few months out west if you can), and realize that you can and should capitalize on your talents now, don't wait. get over your disappointment in the world and creat\n",
      "Hey 23 year old, It's never too late to put yourself out there. Get on those dating apps, meet people, and most importantly have fu\n",
      "Hey 21 year old, don't let the abundance of career choices paralyze you. Life is about developing transferable skills in any setting. Just keep moving forward, open to new experiences, and you will find the place that is fulfilling to yo\n",
      "Hey 31 year old, Don't dwell in self-pity. Shit keeps happening and you have no control over it. All you can control is your reaction to it. Smile more, laugh more, express more and accept mor\n",
      "Hey 25 year old, Join a social club, rather than hit a social ba\n",
      "Hey 21 year old, Don't ever think that you're all grown up yet. You still have much to learn and improve on with and even without the help of others. Have patience and stay strong\n"
     ]
    }
   ],
   "source": [
    "# What question do you ask! This is simmilar to what our final user would enter\n",
    "query = \"Hey 21 year old. i am sad\"\n",
    "# Gets the top `n` responses\n",
    "n = 10\n",
    "\n",
    "# Does the do\n",
    "top_results = ask(query)[:n]\n",
    "for r in top_results:\n",
    "    print(r[0])\n"
   ]
  },
  {
   "cell_type": "code",
   "execution_count": null,
   "metadata": {},
   "outputs": [],
   "source": []
  },
  {
   "cell_type": "code",
   "execution_count": null,
   "metadata": {},
   "outputs": [],
   "source": []
  }
 ],
 "metadata": {
  "colab": {
   "name": "Q and A",
   "provenance": []
  },
  "kernelspec": {
   "display_name": "Python 3",
   "language": "python",
   "name": "python3"
  },
  "language_info": {
   "codemirror_mode": {
    "name": "ipython",
    "version": 3
   },
   "file_extension": ".py",
   "mimetype": "text/x-python",
   "name": "python",
   "nbconvert_exporter": "python",
   "pygments_lexer": "ipython3",
   "version": "3.8.5"
  }
 },
 "nbformat": 4,
 "nbformat_minor": 1
}
