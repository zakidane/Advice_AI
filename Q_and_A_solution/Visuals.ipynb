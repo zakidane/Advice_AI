{
 "cells": [
  {
   "cell_type": "markdown",
   "metadata": {},
   "source": [
    "The following histogram intends to give an idea of how many tries it took for users to get the appropriate response (denote n_asks). Here, it is assumed that if users have stopped pressing the 'Ask Again' button, it would mean that they got an appropriate response. The data was collected from"
   ]
  },
  {
   "cell_type": "code",
   "execution_count": 1,
   "metadata": {},
   "outputs": [
    {
     "name": "stdout",
     "output_type": "stream",
     "text": [
      "importing Jupyter notebook from Test.ipynb\n",
      "score is 0.5704040080308914\n",
      "score is 0.6048931777477264\n",
      "score is 0.28732863813638687\n",
      "score is 0.1236298717558384\n",
      "score is 0.9196281731128693\n",
      "score is 1.0333175957202911\n",
      "score is 0.6869828104972839\n",
      "score is 0.6787922084331512\n",
      "score is 0.9357615411281586\n",
      "score is 0.4119967073202133\n",
      "score is 0.1684480793774128\n",
      "score is 0.9635390043258667\n",
      "score is 1.528080403804779\n",
      "score is 0.8309200257062912\n",
      "{'../data/advice.txt': [0.5704040080308914, 0.6048931777477264, 0.28732863813638687, 0.1236298717558384, 0.9196281731128693, 1.0333175957202911, 0.6869828104972839], '../data/heyfromthefuture/filtered.txt': [0.6787922084331512, 0.9357615411281586, 0.4119967073202133, 0.1684480793774128, 0.9635390043258667, 1.528080403804779, 0.8309200257062912]}\n"
     ]
    }
   ],
   "source": [
    "import pandas as pd\n",
    "import import_ipynb\n",
    "import Test as t\n",
    "\n",
    "\n",
    "df = pd.read_csv('../data/web_responses/responses.csv')"
   ]
  },
  {
   "cell_type": "code",
   "execution_count": 34,
   "metadata": {},
   "outputs": [
    {
     "data": {
      "text/html": [
       "<div>\n",
       "<style scoped>\n",
       "    .dataframe tbody tr th:only-of-type {\n",
       "        vertical-align: middle;\n",
       "    }\n",
       "\n",
       "    .dataframe tbody tr th {\n",
       "        vertical-align: top;\n",
       "    }\n",
       "\n",
       "    .dataframe thead th {\n",
       "        text-align: right;\n",
       "    }\n",
       "</style>\n",
       "<table border=\"1\" class=\"dataframe\">\n",
       "  <thead>\n",
       "    <tr style=\"text-align: right;\">\n",
       "      <th></th>\n",
       "      <th>n_asks</th>\n",
       "      <th>ask_time</th>\n",
       "      <th>id</th>\n",
       "    </tr>\n",
       "  </thead>\n",
       "  <tbody>\n",
       "    <tr>\n",
       "      <th>0</th>\n",
       "      <td>1</td>\n",
       "      <td>43:48.7</td>\n",
       "      <td>1</td>\n",
       "    </tr>\n",
       "    <tr>\n",
       "      <th>1</th>\n",
       "      <td>1</td>\n",
       "      <td>43:58.4</td>\n",
       "      <td>2</td>\n",
       "    </tr>\n",
       "    <tr>\n",
       "      <th>2</th>\n",
       "      <td>1</td>\n",
       "      <td>44:21.6</td>\n",
       "      <td>3</td>\n",
       "    </tr>\n",
       "    <tr>\n",
       "      <th>3</th>\n",
       "      <td>1</td>\n",
       "      <td>59:57.4</td>\n",
       "      <td>7</td>\n",
       "    </tr>\n",
       "    <tr>\n",
       "      <th>4</th>\n",
       "      <td>1</td>\n",
       "      <td>35:15.7</td>\n",
       "      <td>8</td>\n",
       "    </tr>\n",
       "    <tr>\n",
       "      <th>...</th>\n",
       "      <td>...</td>\n",
       "      <td>...</td>\n",
       "      <td>...</td>\n",
       "    </tr>\n",
       "    <tr>\n",
       "      <th>1355</th>\n",
       "      <td>1</td>\n",
       "      <td>50:55.3</td>\n",
       "      <td>1402</td>\n",
       "    </tr>\n",
       "    <tr>\n",
       "      <th>1356</th>\n",
       "      <td>1</td>\n",
       "      <td>12:31.1</td>\n",
       "      <td>1446</td>\n",
       "    </tr>\n",
       "    <tr>\n",
       "      <th>1357</th>\n",
       "      <td>1</td>\n",
       "      <td>13:09.6</td>\n",
       "      <td>1447</td>\n",
       "    </tr>\n",
       "    <tr>\n",
       "      <th>1358</th>\n",
       "      <td>1</td>\n",
       "      <td>13:38.1</td>\n",
       "      <td>1448</td>\n",
       "    </tr>\n",
       "    <tr>\n",
       "      <th>1359</th>\n",
       "      <td>1</td>\n",
       "      <td>25:12.1</td>\n",
       "      <td>1449</td>\n",
       "    </tr>\n",
       "  </tbody>\n",
       "</table>\n",
       "<p>1360 rows × 3 columns</p>\n",
       "</div>"
      ],
      "text/plain": [
       "      n_asks ask_time    id\n",
       "0          1  43:48.7     1\n",
       "1          1  43:58.4     2\n",
       "2          1  44:21.6     3\n",
       "3          1  59:57.4     7\n",
       "4          1  35:15.7     8\n",
       "...      ...      ...   ...\n",
       "1355       1  50:55.3  1402\n",
       "1356       1  12:31.1  1446\n",
       "1357       1  13:09.6  1447\n",
       "1358       1  13:38.1  1448\n",
       "1359       1  25:12.1  1449\n",
       "\n",
       "[1360 rows x 3 columns]"
      ]
     },
     "metadata": {},
     "output_type": "display_data"
    }
   ],
   "source": [
    "display(df)"
   ]
  },
  {
   "cell_type": "code",
   "execution_count": 20,
   "metadata": {},
   "outputs": [
    {
     "data": {
      "text/plain": [
       "<AxesSubplot:ylabel='Frequency'>"
      ]
     },
     "execution_count": 20,
     "metadata": {},
     "output_type": "execute_result"
    },
    {
     "data": {
      "image/png": "[encoded data removed]",
      "text/plain": [
       "<Figure size 432x288 with 1 Axes>"
      ]
     },
     "metadata": {
      "needs_background": "light"
     },
     "output_type": "display_data"
    }
   ],
   "source": [
    "df.plot.hist(by='n_asks', xlim=(0,20), ylim=(0,1500), bins=1000)"
   ]
  },
  {
   "cell_type": "markdown",
   "metadata": {},
   "source": [
    "To analyze what the rate of accuracy is, we simply calculate *Accuracy = count(n_asks=1)/number of rows*"
   ]
  },
  {
   "cell_type": "code",
   "execution_count": 26,
   "metadata": {},
   "outputs": [
    {
     "name": "stdout",
     "output_type": "stream",
     "text": [
      "The accuracy rate is 85%\n"
     ]
    }
   ],
   "source": [
    "percent_accurate = df['n_asks'].value_counts(normalize=True)[1] #percentage of accurate responses where n_asks=1\n",
    "print('The accuracy rate is {}%'.format(round(percent_accurate*100)))\n",
    "\n"
   ]
  },
  {
   "cell_type": "markdown",
   "metadata": {},
   "source": [
    "Below, the normalized distribution of n_asks is shown for the top 13 counts."
   ]
  },
  {
   "cell_type": "code",
   "execution_count": 28,
   "metadata": {},
   "outputs": [
    {
     "data": {
      "text/plain": [
       "1     0.848529\n",
       "2     0.040441\n",
       "3     0.025735\n",
       "4     0.025735\n",
       "5     0.012500\n",
       "6     0.012500\n",
       "7     0.008824\n",
       "9     0.007353\n",
       "8     0.006618\n",
       "10    0.004412\n",
       "13    0.001471\n",
       "14    0.001471\n",
       "30    0.000735\n",
       "Name: n_asks, dtype: float64"
      ]
     },
     "execution_count": 28,
     "metadata": {},
     "output_type": "execute_result"
    }
   ],
   "source": [
    "df['n_asks'].value_counts(normalize=True)[:13]"
   ]
  },
  {
   "cell_type": "code",
   "execution_count": 2,
   "metadata": {},
   "outputs": [
    {
     "name": "stdout",
     "output_type": "stream",
     "text": [
      "score is 0.5704040080308914\n",
      "score is 0.6048931777477264\n",
      "score is 0.28732863813638687\n",
      "score is 0.1236298717558384\n",
      "score is 0.9196281731128693\n",
      "score is 1.0333175957202911\n",
      "score is 0.6869828104972839\n",
      "score is 0.6787922084331512\n",
      "score is 0.9357615411281586\n",
      "score is 0.4119967073202133\n",
      "score is 0.1684480793774128\n",
      "score is 0.9635390043258667\n",
      "score is 1.528080403804779\n",
      "score is 0.8309200257062912\n"
     ]
    },
    {
     "data": {
      "text/html": [
       "<div>\n",
       "<style scoped>\n",
       "    .dataframe tbody tr th:only-of-type {\n",
       "        vertical-align: middle;\n",
       "    }\n",
       "\n",
       "    .dataframe tbody tr th {\n",
       "        vertical-align: top;\n",
       "    }\n",
       "\n",
       "    .dataframe thead th {\n",
       "        text-align: right;\n",
       "    }\n",
       "</style>\n",
       "<table border=\"1\" class=\"dataframe\">\n",
       "  <thead>\n",
       "    <tr style=\"text-align: right;\">\n",
       "      <th></th>\n",
       "      <th>../data/advice.txt</th>\n",
       "      <th>../data/heyfromthefuture/filtered.txt</th>\n",
       "    </tr>\n",
       "  </thead>\n",
       "  <tbody>\n",
       "    <tr>\n",
       "      <th>0</th>\n",
       "      <td>0.570404</td>\n",
       "      <td>0.678792</td>\n",
       "    </tr>\n",
       "    <tr>\n",
       "      <th>1</th>\n",
       "      <td>0.604893</td>\n",
       "      <td>0.935762</td>\n",
       "    </tr>\n",
       "    <tr>\n",
       "      <th>2</th>\n",
       "      <td>0.287329</td>\n",
       "      <td>0.411997</td>\n",
       "    </tr>\n",
       "    <tr>\n",
       "      <th>3</th>\n",
       "      <td>0.123630</td>\n",
       "      <td>0.168448</td>\n",
       "    </tr>\n",
       "    <tr>\n",
       "      <th>4</th>\n",
       "      <td>0.919628</td>\n",
       "      <td>0.963539</td>\n",
       "    </tr>\n",
       "    <tr>\n",
       "      <th>5</th>\n",
       "      <td>1.033318</td>\n",
       "      <td>1.528080</td>\n",
       "    </tr>\n",
       "    <tr>\n",
       "      <th>6</th>\n",
       "      <td>0.686983</td>\n",
       "      <td>0.830920</td>\n",
       "    </tr>\n",
       "  </tbody>\n",
       "</table>\n",
       "</div>"
      ],
      "text/plain": [
       "   ../data/advice.txt  ../data/heyfromthefuture/filtered.txt\n",
       "0            0.570404                               0.678792\n",
       "1            0.604893                               0.935762\n",
       "2            0.287329                               0.411997\n",
       "3            0.123630                               0.168448\n",
       "4            0.919628                               0.963539\n",
       "5            1.033318                               1.528080\n",
       "6            0.686983                               0.830920"
      ]
     },
     "metadata": {},
     "output_type": "display_data"
    }
   ],
   "source": [
    "files = [\"../data/advice.txt\", \"../data/heyfromthefuture/filtered.txt\"]\n",
    "queries = [\"im overweight\", \"my girlfriend left me\", \"I Am sadd\", \"I am Happo\", \"why is life so hard\",\"How do I pay off my debt?\",\"I don't want children\"]\n",
    "scores = {files[0]:[], files[1]:[]}\n",
    "\n",
    "for file in files: \n",
    "    for query in queries:\n",
    "        score = t.testFiles(query, file)\n",
    "        print('score is', score)\n",
    "        scores[file].append(score)\n",
    "df2=pd.DataFrame.from_dict(scores,orient='index').transpose()\n",
    "display(df2)"
   ]
  },
  {
   "cell_type": "code",
   "execution_count": 3,
   "metadata": {},
   "outputs": [
    {
     "data": {
      "text/plain": [
       "<AxesSubplot:>"
      ]
     },
     "execution_count": 3,
     "metadata": {},
     "output_type": "execute_result"
    },
    {
     "data": {
      "image/png": "[encoded data removed]",
      "text/plain": [
       "<Figure size 432x288 with 1 Axes>"
      ]
     },
     "metadata": {
      "needs_background": "light"
     },
     "output_type": "display_data"
    }
   ],
   "source": [
    "df2.plot()"
   ]
  },
  {
   "cell_type": "code",
   "execution_count": null,
   "metadata": {},
   "outputs": [],
   "source": []
  }
 ],
 "metadata": {
  "kernelspec": {
   "display_name": "Python 3",
   "language": "python",
   "name": "python3"
  },
  "language_info": {
   "codemirror_mode": {
    "name": "ipython",
    "version": 3
   },
   "file_extension": ".py",
   "mimetype": "text/x-python",
   "name": "python",
   "nbconvert_exporter": "python",
   "pygments_lexer": "ipython3",
   "version": "3.8.5"
  }
 },
 "nbformat": 4,
 "nbformat_minor": 4
}
