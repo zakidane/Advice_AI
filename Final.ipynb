{
  "nbformat": 4,
  "nbformat_minor": 0,
  "metadata": {
    "colab": {
      "name": "AdviceAi",
      "provenance": [],
      "collapsed_sections": [],
      "toc_visible": true
    },
    "kernelspec": {
      "name": "python3",
      "display_name": "Python 3"
    },
    "language_info": {
      "name": "python"
    },
    "accelerator": "GPU"
  },
  "cells": [
    {
      "cell_type": "markdown",
      "metadata": {
        "id": "zLhGds2_7iNW"
      },
      "source": [
        "# Advice AI\n",
        "Authors: Swag, Zaki, Brandon"
      ]
    },
    {
      "cell_type": "markdown",
      "metadata": {
        "id": "xpdOBhmy70P8"
      },
      "source": [
        "## Load the data\n",
        "<a name=\"advice-data\"></a>\n",
        "### Advice Data\n",
        "We have two advice datasets:\n",
        "- **heyfromthefuture**: Advice taken from [heyfromthefuture.com](https://heyfromthefuture.com/) with permission. It contains life advice categorized by age.\n",
        "- **randomstuffifound**: Literally random advice I found on Google. It is miscellaneous advice on miscellaneous topics.\n",
        "\n",
        "We filtered both these datasets of any explicit or harmful content, and modified them to ensure correct grammar."
      ]
    },
    {
      "cell_type": "code",
      "metadata": {
        "id": "InUZDlC75hIS"
      },
      "source": [
        "import hashlib, json\n",
        "# helper method to load a json file and check it's hash\n",
        "# throws an assertion error if the hashes don't match\n",
        "# This ensures we use the same data across multiple iterations of this notebook\n",
        "def load_json_and_check_hash(json_file, expected_hash):\n",
        "  with open(json_file, 'r') as f:\n",
        "    raw_data = f.read()\n",
        "  hash = hashlib.sha3_256(raw_data.encode()).hexdigest()\n",
        "  assert hash == expected_hash, \"{} does not have the correct hash and was likely modified. Expected '{}' got '{}'\".format(json_file, expected_hash, hash)\n",
        "  return json.loads(raw_data)"
      ],
      "execution_count": 1,
      "outputs": []
    },
    {
      "cell_type": "code",
      "metadata": {
        "id": "DUwKtZFCCrcZ"
      },
      "source": [
        "# Load the advice datasets\n",
        "heyfromthefuture = load_json_and_check_hash('heyfromthefuture.json', 'f20a5434e20f425ba7dc8dea364baa81c16ddac1154d01110f045162a4d11ad5')\n",
        "randomstuffifound = load_json_and_check_hash('randomstuffifound.json', '1a7a0e702809e3b138db7da4f5e58626a9ebdb71149d43ac3f3143a57cc7bdf3')"
      ],
      "execution_count": 2,
      "outputs": []
    },
    {
      "cell_type": "markdown",
      "metadata": {
        "id": "8kXaLzlKzJut"
      },
      "source": [
        "<a name=\"load-the-model\"></a>\n",
        "## Load the model\n",
        "We used Tensorflow's [Universal Sentence Encoder QA](https://tfhub.dev/google/universal-sentence-encoder-qa/3) model for our task. This was the best solution we found during our inital research"
      ]
    },
    {
      "cell_type": "code",
      "metadata": {
        "id": "ovLZtyftj7_m"
      },
      "source": [
        "!pip install tensorflow_text"
      ],
      "execution_count": null,
      "outputs": []
    },
    {
      "cell_type": "code",
      "metadata": {
        "id": "4E6KwetE1WIx"
      },
      "source": [
        "import tensorflow as tf\n",
        "import tensorflow_hub as hub\n",
        "import numpy as np\n",
        "import tensorflow_text\n",
        "\n",
        "# Load the model\n",
        "module = hub.load('https://tfhub.dev/google/universal-sentence-encoder-qa/3')"
      ],
      "execution_count": 4,
      "outputs": []
    },
    {
      "cell_type": "markdown",
      "metadata": {
        "id": "E_rthWvcpCRi"
      },
      "source": [
        "## Encode Advice\n",
        "Since the model is entirely deterministic [as we show below](#showing-determinism) we can use this method to encode the advice just once and use the encodings repeatedly"
      ]
    },
    {
      "cell_type": "code",
      "metadata": {
        "id": "BXCok4KQ1XZj"
      },
      "source": [
        "# Helper method to turn data into advice and contexts\n",
        "#   `data` is a dataset\n",
        "#   `to_advice` is a function that turns a line in that dataset into an advice string\n",
        "#   `to_context` is a function that turns a line in that dataset into a context\n",
        "# This is to let us see what substrings best serve as contexts in our models later on\n",
        "def to_advice_and_contexts(data, to_advice, to_context):\n",
        "  return [to_advice(p) for p in data], [to_context(p) for p in data]\n",
        "\n",
        "# Encodes advice and returns it\n",
        "def encode_advice(advice, contexts):\n",
        "  return module.signatures['response_encoder'](\n",
        "    input = tf.constant(advice),\n",
        "    context = tf.constant(contexts))['outputs']"
      ],
      "execution_count": 5,
      "outputs": []
    },
    {
      "cell_type": "markdown",
      "metadata": {
        "id": "C-p2WLhZdHn-"
      },
      "source": [
        "<a name=\"showing-determinism\"></a>\n",
        "#### Showing Determinism\n",
        "We show determinism by encoding the advice for the randomstuffifound dataset twice and comparing the results"
      ]
    },
    {
      "cell_type": "code",
      "metadata": {
        "colab": {
          "base_uri": "https://localhost:8080/"
        },
        "id": "64ZWjGqcca1w",
        "outputId": "bc86f7dc-4aff-410e-b476-1cf0098b32f2"
      },
      "source": [
        "# Generate advice and contexts. This is trivially determinstic so we do it once\n",
        "det_adv, det_ctx = to_advice_and_contexts(randomstuffifound, lambda x: x, lambda x: x)\n",
        "# Do two 'trials' of encoding the randomstuffifound dataset\n",
        "det_trial_1 = encode_advice(det_adv, det_ctx)\n",
        "det_trial_2 = encode_advice(det_adv, det_ctx)\n",
        "# Check if they're the same\n",
        "if tf.math.reduce_all(tf.equal(det_trial_1, det_trial_2)):\n",
        "  print('Determinism holds!')\n",
        "else:\n",
        "  print('Determinism is false!')"
      ],
      "execution_count": 6,
      "outputs": [
        {
          "output_type": "stream",
          "text": [
            "Determinism is false!\n"
          ],
          "name": "stdout"
        }
      ]
    },
    {
      "cell_type": "markdown",
      "metadata": {
        "id": "YNs3EKzAjtnF"
      },
      "source": [
        "## Make Queries\n",
        "We encode queries and take the dot product to determine a \"relevancy score\" between each query and advice. Then we use a heap to get the top n advice"
      ]
    },
    {
      "cell_type": "code",
      "metadata": {
        "id": "rWTfSfnAOf8E"
      },
      "source": [
        "# Use this to get the top n advice\n",
        "import heapq\n",
        "# Computes \"the best\" advice for multiple queries\n",
        "#   `queries` is a list of query strings\n",
        "#   `advice` is the list of advice strings\n",
        "#   `encoded_advice` is the encoded advice (See `encode_advice` above)\n",
        "# Returns a dict of the form {query: [(score, advice)]}\n",
        "def ask(queries, advice, encoded_advice, top_n=1):\n",
        "  encoded_queries = module.signatures['question_encoder'](tf.constant(queries))['outputs']\n",
        "  weights = np.inner(encoded_queries, encoded_advice)\n",
        "  return {q:heapq.nlargest(top_n, zip(weights[i], advice)) for i, q in enumerate(queries)}"
      ],
      "execution_count": 7,
      "outputs": []
    },
    {
      "cell_type": "markdown",
      "metadata": {
        "id": "n4AAoK_Q23h2"
      },
      "source": [
        "<a name=\"a-demo\"></a>\n",
        "### A Demo\n",
        "Below is a simmilar demo to what we made during [data collection](#data-collection-methodology)\n",
        "\n",
        "We load both datasets and collect them in a pool in essentially the same way as in the [tfjs version](#advice-encoding)"
      ]
    },
    {
      "cell_type": "code",
      "metadata": {
        "id": "KTS4jyvCRot5"
      },
      "source": [
        "# heyfromthefuture\n",
        "hftf_adv, hftf_ctx = to_advice_and_contexts(heyfromthefuture, lambda x: x[17:], lambda x: x)\n",
        "# randomstuffifound\n",
        "rsif_adv, rsif_ctx = to_advice_and_contexts(randomstuffifound, lambda x: x, lambda x: x)\n",
        "\n",
        "# We combine both advice and context into a pool for the demo\n",
        "demo_adv, demo_ctx = [*hftf_adv, *rsif_adv], [*hftf_ctx, *rsif_ctx]\n",
        "# And finally generate encodings\n",
        "demo_encode = encode_advice(demo_adv, demo_ctx)"
      ],
      "execution_count": 8,
      "outputs": []
    },
    {
      "cell_type": "markdown",
      "metadata": {
        "id": "H8wvlBxS38g0"
      },
      "source": [
        "Try it out! Ask any query and the number of responses you would like to get advice and their scores!"
      ]
    },
    {
      "cell_type": "code",
      "metadata": {
        "colab": {
          "base_uri": "https://localhost:8080/",
          "height": 390
        },
        "id": "EDqUbLypklaQ",
        "outputId": "4bebc75e-926b-407c-b50c-c9bd577ba934"
      },
      "source": [
        "# We import pandas here to pretty print the table\n",
        "import pandas as pd\n",
        "my_query = input('What qualms you:')\n",
        "my_advice = ask([my_query], demo_adv, demo_encode, top_n=int(input('How many advice would you like:')))\n",
        "# Print the results and dont truncate anything\n",
        "with pd.option_context('display.max_colwidth', None):\n",
        "  display(pd.DataFrame(my_advice[my_query], columns=['Score', 'Advice']))"
      ],
      "execution_count": 9,
      "outputs": [
        {
          "output_type": "stream",
          "text": [
            "What qualms you:I don't feel satisfied with this project\n",
            "How many advice would you like:10\n"
          ],
          "name": "stdout"
        },
        {
          "output_type": "display_data",
          "data": {
            "text/html": [
              "<div>\n",
              "<style scoped>\n",
              "    .dataframe tbody tr th:only-of-type {\n",
              "        vertical-align: middle;\n",
              "    }\n",
              "\n",
              "    .dataframe tbody tr th {\n",
              "        vertical-align: top;\n",
              "    }\n",
              "\n",
              "    .dataframe thead th {\n",
              "        text-align: right;\n",
              "    }\n",
              "</style>\n",
              "<table border=\"1\" class=\"dataframe\">\n",
              "  <thead>\n",
              "    <tr style=\"text-align: right;\">\n",
              "      <th></th>\n",
              "      <th>Score</th>\n",
              "      <th>Advice</th>\n",
              "    </tr>\n",
              "  </thead>\n",
              "  <tbody>\n",
              "    <tr>\n",
              "      <th>0</th>\n",
              "      <td>0.136927</td>\n",
              "      <td>Words have more power than you think - Say 'There is a problem with the project' compared to 'There's an opportunity to make the project better'. Which one sounds better?</td>\n",
              "    </tr>\n",
              "    <tr>\n",
              "      <th>1</th>\n",
              "      <td>0.109688</td>\n",
              "      <td>Be prepared: When you are 90% done any large project (a house, a film, an event, an app) the rest of the myriad details will take a second 90% to complete.</td>\n",
              "    </tr>\n",
              "    <tr>\n",
              "      <th>2</th>\n",
              "      <td>0.105888</td>\n",
              "      <td>Focus on making an impact - Make your work meaningful and if your work isn't, do something about it. Ask yourself 'If this was my last day, would I feel content?'</td>\n",
              "    </tr>\n",
              "    <tr>\n",
              "      <th>3</th>\n",
              "      <td>0.099166</td>\n",
              "      <td>At this age, you are furious, you wanna do everything, perfectly, quickly, you think the time is running out. I just want you to know that it's okay, you are very young, take your time, grow yourself, it's okay</td>\n",
              "    </tr>\n",
              "    <tr>\n",
              "      <th>4</th>\n",
              "      <td>0.095581</td>\n",
              "      <td>take a step back and look at yourself. Are you sacrificing all your progress to just settle for something like \"comfort\" or \"familiarity\"?</td>\n",
              "    </tr>\n",
              "    <tr>\n",
              "      <th>5</th>\n",
              "      <td>0.094906</td>\n",
              "      <td>Take initiative - I've had problems with this and that's making an impact without being told what to do. This separates successful from the mediocre</td>\n",
              "    </tr>\n",
              "    <tr>\n",
              "      <th>6</th>\n",
              "      <td>0.092117</td>\n",
              "      <td>Your feelings are valid! Get a friend who will listen to them, and remember to LISTEN TO THIERS TOO!!!</td>\n",
              "    </tr>\n",
              "    <tr>\n",
              "      <th>7</th>\n",
              "      <td>0.088407</td>\n",
              "      <td>By now you have probably failed at something. You have to pick yourself up and know that there are better things in store. Valuable lessons come from things that don't work. Get back on the damn horse already and try something different</td>\n",
              "    </tr>\n",
              "    <tr>\n",
              "      <th>8</th>\n",
              "      <td>0.087341</td>\n",
              "      <td>if you tell yourself what you're feeling is just stress, or holiday blues, or vitamin deficiency, or hormonal imbalance, but the feeling doesn't go away, it might be depression, and it's ok to run that by a mental health professional. Now</td>\n",
              "    </tr>\n",
              "    <tr>\n",
              "      <th>9</th>\n",
              "      <td>0.084406</td>\n",
              "      <td>You probably feel confused about who you are and how you feel. This is completely normal - you don't need to worry. Allow yourself to feel these things, and life will sort itself out with time</td>\n",
              "    </tr>\n",
              "  </tbody>\n",
              "</table>\n",
              "</div>"
            ],
            "text/plain": [
              "      Score                                                                                                                                                                                                                                          Advice\n",
              "0  0.136927                                                                      Words have more power than you think - Say 'There is a problem with the project' compared to 'There's an opportunity to make the project better'. Which one sounds better?\n",
              "1  0.109688                                                                                     Be prepared: When you are 90% done any large project (a house, a film, an event, an app) the rest of the myriad details will take a second 90% to complete.\n",
              "2  0.105888                                                                              Focus on making an impact - Make your work meaningful and if your work isn't, do something about it. Ask yourself 'If this was my last day, would I feel content?'\n",
              "3  0.099166                              At this age, you are furious, you wanna do everything, perfectly, quickly, you think the time is running out. I just want you to know that it's okay, you are very young, take your time, grow yourself, it's okay\n",
              "4  0.095581                                                                                                      take a step back and look at yourself. Are you sacrificing all your progress to just settle for something like \"comfort\" or \"familiarity\"?\n",
              "5  0.094906                                                                                            Take initiative - I've had problems with this and that's making an impact without being told what to do. This separates successful from the mediocre\n",
              "6  0.092117                                                                                                                                          Your feelings are valid! Get a friend who will listen to them, and remember to LISTEN TO THIERS TOO!!!\n",
              "7  0.088407    By now you have probably failed at something. You have to pick yourself up and know that there are better things in store. Valuable lessons come from things that don't work. Get back on the damn horse already and try something different\n",
              "8  0.087341  if you tell yourself what you're feeling is just stress, or holiday blues, or vitamin deficiency, or hormonal imbalance, but the feeling doesn't go away, it might be depression, and it's ok to run that by a mental health professional. Now\n",
              "9  0.084406                                                You probably feel confused about who you are and how you feel. This is completely normal - you don't need to worry. Allow yourself to feel these things, and life will sort itself out with time"
            ]
          },
          "metadata": {
            "tags": []
          }
        }
      ]
    },
    {
      "cell_type": "markdown",
      "metadata": {
        "id": "BqBFNBGm4k27"
      },
      "source": [
        "<a name='analysis'></a>\n",
        "# Analysis?\n",
        "\n",
        "<a name=\"qa-data\"></a>\n",
        "## QA Data\n",
        "We also collected **our own** question-answer data from [a demo we ran](https://swag-site.herokuapp.com/helpful). You can find our methodology [below](#data-collection-methodology)\n",
        "\n",
        "It contains the questions asked by users as well as the answers they considered, in order, before leaving the site.\n",
        "\n",
        "With privacy being a concern, **you should not have access to this data**. Please let us know if you do."
      ]
    },
    {
      "cell_type": "code",
      "metadata": {
        "id": "xbpL7XSp9ZQu"
      },
      "source": [
        "# Load the QA dataset\n",
        "qa_data = load_json_and_check_hash('4-16-21_qa_data.json', 'bfc28fab622f7762a2f2c1193071394ace95c4ebdaa1c01278a0e6d4be302cd2')\n",
        "# Because we often need just the questions\n",
        "q_data = [e['question'] for e in qa_data]"
      ],
      "execution_count": 10,
      "outputs": []
    },
    {
      "cell_type": "markdown",
      "metadata": {
        "id": "3rvGO_gjD60O"
      },
      "source": [
        "<a name=\"compare-tf-and-tfjs\"></a>\n",
        "## Comparing TF and TFJS\n",
        "Since the [qa_data](#qa-data) contains questions as well as advice generated by the [tfjs model](#data-collection-methodology), we can compare the two models by generating advice for the same questions using the [python model](#a-demo) here."
      ]
    },
    {
      "cell_type": "code",
      "metadata": {
        "id": "EBQ2N8WRPM41"
      },
      "source": [
        "# Compute the advice for all the same questions now with the python model\n",
        "# topn is 50 here because in the tfjs demo we capped the number of advice generated to 50\n",
        "tf_qa_data = ask(q_data, demo_adv, demo_encode, top_n=50)"
      ],
      "execution_count": 11,
      "outputs": []
    },
    {
      "cell_type": "markdown",
      "metadata": {
        "id": "3vi7WxsZ8pNP"
      },
      "source": [
        "Since we are using pandas for plotting, we move our data into a dataframe.\n",
        "\n",
        "We also preserve the number of the advice for each question. e.g. whether this was the first or fifth advice the user saw.\n",
        "\n",
        "Lastly we add a column of random advice to act as a control in simmilarity calculations"
      ]
    },
    {
      "cell_type": "code",
      "metadata": {
        "id": "D0SR4L7bDQ46"
      },
      "source": [
        "# We use these to categorize the data for plots\n",
        "cmp_df = pd.DataFrame(columns=['tfjs', 'tf'])\n",
        "# Fill up the pools\n",
        "for entry in qa_data:\n",
        "  n_asks = len(entry['responses'])\n",
        "  cmp_df = cmp_df.append(pd.DataFrame({\n",
        "    'tfjs': entry['responses'],\n",
        "    'tf': [advice for score, advice in tf_qa_data[entry['question']][:n_asks]]\n",
        "  }))\n",
        "# Because of the way we append rows the index actually becomes the nth ask\n",
        "cmp_df['n_asks'] = cmp_df.index + 1\n",
        "# We also make a random column with random advice to act as a control\n",
        "cmp_df['rand'] = np.random.choice(demo_adv, size=len(cmp_df.index))"
      ],
      "execution_count": 12,
      "outputs": []
    },
    {
      "cell_type": "markdown",
      "metadata": {
        "id": "XVyU-yG27tq9"
      },
      "source": [
        "<a name=\"**use-v4**\"></a>\n",
        "We use Tensorflow's [Universal Sentence Encoder v4](https://tfhub.dev/google/universal-sentence-encoder/4) model to determine simmilarity. We load this model using the same tensorflow hub module as [the other USE model](#load-the-model)"
      ]
    },
    {
      "cell_type": "code",
      "metadata": {
        "id": "nJc-_tpaJkRE"
      },
      "source": [
        "# Load the USE v4 model\n",
        "embed = hub.load(\"https://tfhub.dev/google/universal-sentence-encoder/4\")"
      ],
      "execution_count": 13,
      "outputs": []
    },
    {
      "cell_type": "markdown",
      "metadata": {
        "id": "wjPzBBQ3-41l"
      },
      "source": [
        "We define a function to compute the simmilarity between two given columns and graph a box plot.\n",
        "\n",
        "This is to ensure the experiment and control run through the exact same function."
      ]
    },
    {
      "cell_type": "code",
      "metadata": {
        "id": "CkTY-JXN3GWH"
      },
      "source": [
        "import pandas as pd\n",
        "def compute_and_plot_simmilarity(df, col1, col2, title):\n",
        "  ax = pd.DataFrame({\n",
        "    # Compute simmilarity via dot product\n",
        "    'simmilarity': np.inner(embed(df[col1]), embed(df[col2])).diagonal(),\n",
        "    'n_asks': df['n_asks']\n",
        "  }).boxplot(\n",
        "    column='simmilarity',\n",
        "    by='n_asks', # We make a seperate plot for eack ask\n",
        "    figsize=(25, 5),\n",
        "    showmeans=True, # Show the means as green triangles\n",
        "    patch_artist=True\n",
        "  )\n",
        "  ax.set_ybound(0, 1) # To maintain y scaling across multiple plots\n",
        "  ax.set_xlabel('the nth ask')\n",
        "  ax.set_ylabel('simmilarity')\n",
        "  ax.set_title(title)"
      ],
      "execution_count": 14,
      "outputs": []
    },
    {
      "cell_type": "markdown",
      "metadata": {
        "id": "1-jGsSysAKWD"
      },
      "source": [
        "Below is the comparison of the tfjs model and the tf model. Notice the answers are more simmilar early on but slowly diverge. There are quite a few answers that were a perfect match and the average simmilarity seems to be about $30\\%$"
      ]
    },
    {
      "cell_type": "code",
      "metadata": {
        "colab": {
          "base_uri": "https://localhost:8080/",
          "height": 416
        },
        "id": "DXYp-Xos5cGF",
        "outputId": "8d5ca345-38a0-4285-816d-dce5e2e64336"
      },
      "source": [
        "compute_and_plot_simmilarity(cmp_df, 'tfjs', 'tf', 'simmilarity between tfjs and tf models on the qa_data dataset grouped by the nth ask')"
      ],
      "execution_count": 15,
      "outputs": [
        {
          "output_type": "stream",
          "text": [
            "/usr/local/lib/python3.7/dist-packages/numpy/core/_asarray.py:83: VisibleDeprecationWarning: Creating an ndarray from ragged nested sequences (which is a list-or-tuple of lists-or-tuples-or ndarrays with different lengths or shapes) is deprecated. If you meant to do this, you must specify 'dtype=object' when creating the ndarray\n",
            "  return array(a, dtype, copy=False, order=order)\n"
          ],
          "name": "stderr"
        },
        {
          "output_type": "display_data",
          "data": {
            "image/png": "[encoded data removed]",
            "text/plain": [
              "<Figure size 1800x360 with 1 Axes>"
            ]
          },
          "metadata": {
            "tags": [],
            "needs_background": "light"
          }
        }
      ]
    },
    {
      "cell_type": "markdown",
      "metadata": {
        "id": "8_UlwM38AqHw"
      },
      "source": [
        "Below is the comparison of the tfjs model and random data. Notice that similarity is about $0.2$ and it holds constant throughout any number of asks. There are no cases of a perfect match."
      ]
    },
    {
      "cell_type": "code",
      "metadata": {
        "colab": {
          "base_uri": "https://localhost:8080/",
          "height": 416
        },
        "id": "NhPTQqTb4w2N",
        "outputId": "e8ff941a-884b-4633-df6c-e35c08da6506"
      },
      "source": [
        "compute_and_plot_simmilarity(cmp_df, 'tfjs', 'rand', 'simmilarity between tfjs and random advice to act as a control')"
      ],
      "execution_count": 16,
      "outputs": [
        {
          "output_type": "stream",
          "text": [
            "/usr/local/lib/python3.7/dist-packages/numpy/core/_asarray.py:83: VisibleDeprecationWarning: Creating an ndarray from ragged nested sequences (which is a list-or-tuple of lists-or-tuples-or ndarrays with different lengths or shapes) is deprecated. If you meant to do this, you must specify 'dtype=object' when creating the ndarray\n",
            "  return array(a, dtype, copy=False, order=order)\n"
          ],
          "name": "stderr"
        },
        {
          "output_type": "display_data",
          "data": {
            "image/png": "[encoded data removed]",
            "text/plain": [
              "<Figure size 1800x360 with 1 Axes>"
            ]
          },
          "metadata": {
            "tags": [],
            "needs_background": "light"
          }
        }
      ]
    },
    {
      "cell_type": "markdown",
      "metadata": {
        "id": "mCDLcIR4V7CV"
      },
      "source": [
        "<a name=\"advice-comparison\"></a>\n",
        "## Advice Comparison\n",
        "We take a look at the simmilarity profile of advice in our [combined dataset](#a-demo) to get a sense of it's diversity.\n",
        "\n",
        "We use the same USE v4 [as above](#use-v4) to accomplish this."
      ]
    },
    {
      "cell_type": "code",
      "metadata": {
        "colab": {
          "base_uri": "https://localhost:8080/",
          "height": 295
        },
        "id": "aD2mX-ALYeNy",
        "outputId": "63580aa3-54b0-4b7c-b563-402e3e3aac20"
      },
      "source": [
        "# Use the USE to generate embeddings\n",
        "vects = embed(demo_adv)\n",
        "# Take dot product to calculate simmilarites\n",
        "mat = np.inner(vects, vects)\n",
        "# Get unique simmiarities by flattening the lower triangle\n",
        "# Take absolute value because some are negative but simmilarity is not\n",
        "unique_sim = np.absolute(np.tril(vects, -1).flatten())\n",
        "# Plot it\n",
        "import matplotlib.pyplot as plt\n",
        "plt.boxplot(unique_sim, vert=False, showmeans=True)\n",
        "plt.xlabel('simmilarity')\n",
        "plt.title('distribution of simmilarities in the demo advice dataset')\n",
        "plt.show()"
      ],
      "execution_count": 17,
      "outputs": [
        {
          "output_type": "display_data",
          "data": {
            "image/png": "[encoded data removed]",
            "text/plain": [
              "<Figure size 432x288 with 1 Axes>"
            ]
          },
          "metadata": {
            "tags": [],
            "needs_background": "light"
          }
        }
      ]
    },
    {
      "cell_type": "markdown",
      "metadata": {
        "id": "PWQkAv8liivp"
      },
      "source": [
        "This shows we acually have a really diverse dataset with the most simmilar advice being only around 14% simmilar and the average being less than 3%. "
      ]
    },
    {
      "cell_type": "markdown",
      "metadata": {
        "id": "PHcEmYs1ky0B"
      },
      "source": [
        "## Question Comparison\n",
        "We can apply the same analysis as [above](#advice-comparison) to the questions in [qa_data](#qa-data)"
      ]
    },
    {
      "cell_type": "code",
      "metadata": {
        "colab": {
          "base_uri": "https://localhost:8080/",
          "height": 295
        },
        "id": "JevWuxAel_Mg",
        "outputId": "c5d0a6b4-e0a8-4e9c-b9d4-35666719fbb2"
      },
      "source": [
        "vects = embed(q_data)\n",
        "mat = np.inner(vects, vects)\n",
        "unique_sim = np.absolute(np.tril(vects, -1).flatten())\n",
        "plt.boxplot(unique_sim, vert=False, showmeans=True)\n",
        "plt.xlabel('simmilarity')\n",
        "plt.title('distribution of simmilarities between questions in qa_data')\n",
        "plt.show()"
      ],
      "execution_count": 18,
      "outputs": [
        {
          "output_type": "display_data",
          "data": {
            "image/png": "[encoded data removed]",
            "text/plain": [
              "<Figure size 432x288 with 1 Axes>"
            ]
          },
          "metadata": {
            "tags": [],
            "needs_background": "light"
          }
        }
      ]
    },
    {
      "cell_type": "markdown",
      "metadata": {
        "id": "E-XOFzZjnNTt"
      },
      "source": [
        "Again this shows we have a really diverse selection of questions. Intrestingly the distribution is **nearly identical** to our distribution of advice. We're not quite sure why this is and *may point to a larger phenomenon*"
      ]
    },
    {
      "cell_type": "markdown",
      "metadata": {
        "id": "Y2fOeVmkub8p"
      },
      "source": [
        "<a name=\"n_asks\"></a>\n",
        "## Number of Asks\n",
        "We were intrested in the distribution of asks to act as a measure of accuracy for our model"
      ]
    },
    {
      "cell_type": "code",
      "metadata": {
        "colab": {
          "base_uri": "https://localhost:8080/",
          "height": 283
        },
        "id": "fpj75IAHu87G",
        "outputId": "01d37918-2318-478f-84b1-22285567c873"
      },
      "source": [
        "# Get number of asks for each user\n",
        "asks_df = pd.DataFrame({'n_asks': [len(e['responses']) for e in qa_data]})\n",
        "# histogram\n",
        "asks_df.plot.hist(by='n_asks')\n",
        "# Calculate accuracy\n",
        "# percentage of accurate responses where n_asks=1\n",
        "percent_accurate = asks_df['n_asks'].value_counts(normalize=True)[1]\n",
        "print('The accuracy rate is {}%'.format(round(percent_accurate * 100)))"
      ],
      "execution_count": 19,
      "outputs": [
        {
          "output_type": "stream",
          "text": [
            "The accuracy rate is 84%\n"
          ],
          "name": "stdout"
        },
        {
          "output_type": "display_data",
          "data": {
            "image/png": "[encoded data removed]",
            "text/plain": [
              "<Figure size 432x288 with 1 Axes>"
            ]
          },
          "metadata": {
            "tags": [],
            "needs_background": "light"
          }
        }
      ]
    },
    {
      "cell_type": "code",
      "metadata": {
        "colab": {
          "base_uri": "https://localhost:8080/"
        },
        "id": "mzKlSPtazWLr",
        "outputId": "2d82abb1-742b-4f55-89aa-1e55ef77312d"
      },
      "source": [
        "# Below, the normalized distribution of n_asks is shown for the top 13 counts.\n",
        "asks_df['n_asks'].value_counts(normalize=True)[:13]"
      ],
      "execution_count": 20,
      "outputs": [
        {
          "output_type": "execute_result",
          "data": {
            "text/plain": [
              "1     0.840191\n",
              "2     0.043062\n",
              "4     0.030622\n",
              "3     0.026794\n",
              "5     0.013397\n",
              "6     0.012440\n",
              "7     0.008612\n",
              "8     0.007656\n",
              "9     0.006699\n",
              "10    0.003828\n",
              "13    0.001914\n",
              "50    0.000957\n",
              "30    0.000957\n",
              "Name: n_asks, dtype: float64"
            ]
          },
          "metadata": {
            "tags": []
          },
          "execution_count": 20
        }
      ]
    },
    {
      "cell_type": "markdown",
      "metadata": {
        "id": "Sm10Vj6xwW0a"
      },
      "source": [
        "If we assume users that left the site after reading just the first advice they recieved, recieved good advice, then our model's accuracy is just over $84\\%$ accurate"
      ]
    },
    {
      "cell_type": "markdown",
      "metadata": {
        "id": "GbFIz9GS5R20"
      },
      "source": [
        "<a name=\"comparing-advice-datasets\">\n",
        "## Comparing Advice Datasets\n",
        "\n",
        "We were interested in which advice dataset produced the most accurate advice on average"
      ]
    },
    {
      "cell_type": "code",
      "metadata": {
        "id": "uj1D0qO19SD1"
      },
      "source": [
        "# Encode our datasets seperately\n",
        "hftf_encode = encode_advice(hftf_adv, hftf_ctx)\n",
        "rsif_encode = encode_advice(rsif_adv, rsif_ctx)"
      ],
      "execution_count": 21,
      "outputs": []
    },
    {
      "cell_type": "code",
      "metadata": {
        "id": "YCAW-x8EBOQh"
      },
      "source": [
        "# Helper method to extract just the scores from a call to the `ask` function\n",
        "def get_scores(ask_response):\n",
        "  return [a[0][0] for a in ask_response.values()]"
      ],
      "execution_count": 22,
      "outputs": []
    },
    {
      "cell_type": "code",
      "metadata": {
        "colab": {
          "base_uri": "https://localhost:8080/",
          "height": 295
        },
        "id": "KPbbIatI-rzY",
        "outputId": "4d0eada6-75e0-4191-b168-84421d9817ba"
      },
      "source": [
        "dataset_comp_ax = pd.DataFrame({\n",
        "  'heyfromthefuture': get_scores(ask(q_data, hftf_adv, hftf_encode)),\n",
        "  'randomstuffifound': get_scores(ask(q_data, rsif_adv, rsif_encode))\n",
        "}).boxplot(vert=False)\n",
        "dataset_comp_ax.set_xticks([n/10 for n in range(10+1)])\n",
        "dataset_comp_ax.set_xlabel('score')\n",
        "_=dataset_comp_ax.set_title('score comparison across datasets')"
      ],
      "execution_count": 23,
      "outputs": [
        {
          "output_type": "display_data",
          "data": {
            "image/png": "[encoded data removed]",
            "text/plain": [
              "<Figure size 432x288 with 1 Axes>"
            ]
          },
          "metadata": {
            "tags": [],
            "needs_background": "light"
          }
        }
      ]
    },
    {
      "cell_type": "markdown",
      "metadata": {
        "id": "5JFKOkSoESYy"
      },
      "source": [
        "As you can see the heyfromthefuture dataset performs slightly better than the randomstuffifound dataset. This is actually surprising as the heyfromthefuture dataset is more than twice as large.\n",
        "\n",
        "We don't think the quality of the advice in the datasets is much different and so this likely points to diminishing returns of adding more advice."
      ]
    },
    {
      "cell_type": "markdown",
      "metadata": {
        "id": "9gKbHgA4LQEU"
      },
      "source": [
        "## Scores of Irrelevant Advice\n",
        "We were intrested in how confident the model was when it was \"wrong\" a.k.a. when the user clicked Ask Again!\n",
        "\n",
        "Unfortunately we didn't collect that data at the time so we decided based on [our comparison results](#compare-tf-and-tfjs) that the python model serves as a good analog.\n",
        "\n",
        "Here's the idea:\n",
        "1. split questions based on whether the user had to click Ask Again\n",
        "2. ask the Python model to answer the questions\n",
        "3. compare the distributions"
      ]
    },
    {
      "cell_type": "code",
      "metadata": {
        "id": "b7t3Rt1LLubr"
      },
      "source": [
        "# split questions based on whether the user had to click Ask Again\n",
        "q_success, q_fail = [], []\n",
        "for e in qa_data:\n",
        "  if len(e['responses']) == 1:\n",
        "    q_success.append(e['question'])\n",
        "  else:\n",
        "    q_fail.append(e['question'])"
      ],
      "execution_count": 24,
      "outputs": []
    },
    {
      "cell_type": "markdown",
      "metadata": {
        "id": "7OrTady_Q3sJ"
      },
      "source": [
        "The `get_scores` method below is from [the last analysis](#comparing-advice-datasets)"
      ]
    },
    {
      "cell_type": "code",
      "metadata": {
        "id": "UzTkJk24Qmqh"
      },
      "source": [
        "# Calculate scores\n",
        "success_scores = get_scores(ask(q_success, demo_adv, demo_encode))\n",
        "fail_scores = get_scores(ask(q_fail, demo_adv, demo_encode))"
      ],
      "execution_count": 25,
      "outputs": []
    },
    {
      "cell_type": "code",
      "metadata": {
        "colab": {
          "base_uri": "https://localhost:8080/",
          "height": 350
        },
        "id": "viHck3TvRUFG",
        "outputId": "70d22bc8-8f1f-42a8-a71e-e2981a4c7c38"
      },
      "source": [
        "# Plot them\n",
        "plt.boxplot([fail_scores, success_scores], labels=['fail', 'success'], vert=False, showmeans=True)\n",
        "plt.xlabel('score')\n",
        "plt.title('distribution of scores for successful and failed queries')\n",
        "plt.show()"
      ],
      "execution_count": 26,
      "outputs": [
        {
          "output_type": "stream",
          "text": [
            "/usr/local/lib/python3.7/dist-packages/numpy/core/_asarray.py:83: VisibleDeprecationWarning: Creating an ndarray from ragged nested sequences (which is a list-or-tuple of lists-or-tuples-or ndarrays with different lengths or shapes) is deprecated. If you meant to do this, you must specify 'dtype=object' when creating the ndarray\n",
            "  return array(a, dtype, copy=False, order=order)\n"
          ],
          "name": "stderr"
        },
        {
          "output_type": "display_data",
          "data": {
            "image/png": "[encoded data removed]",
            "text/plain": [
              "<Figure size 432x288 with 1 Axes>"
            ]
          },
          "metadata": {
            "tags": [],
            "needs_background": "light"
          }
        }
      ]
    },
    {
      "cell_type": "markdown",
      "metadata": {
        "id": "Oi1p2cfvUrA9"
      },
      "source": [
        "Interestingly, the model seemed to be more confident when it failed. "
      ]
    },
    {
      "cell_type": "markdown",
      "metadata": {
        "id": "5UeJd9sM4rNy"
      },
      "source": [
        "# Making Improvements\n",
        "Based on our [analysis](#analysis) we came up with a few methods of improving the AI to provide more relevant advice\n",
        "- Fine tune the USE QA Model\n",
        "- Fine tune advice contexts\n",
        "- Cull advice to create a more performant dataset\n",
        "- Add more advice to the dataset\n",
        "\n",
        "Of these we hypothesize fine-tuning the USE QA Model will be most effective, and perhaps we can use some combination for maximum benefits\n",
        "\n",
        "**This is where we left off in this project as we ran out of time.** You can see our attempt at tuning the USE-QA model [here](#fine-tuneing)"
      ]
    },
    {
      "cell_type": "markdown",
      "metadata": {
        "id": "SYrJIX6jxkJy"
      },
      "source": [
        "# Footnotes\n",
        "The *details*"
      ]
    },
    {
      "cell_type": "markdown",
      "metadata": {
        "id": "7qKW0DwIQgsp"
      },
      "source": [
        "<a name=\"data-collection-methodology\"></a>\n",
        "## Data Collection Methodology\n",
        "We collected QA using a demo of this AI we launched at [swag-site.herokuapp.com/helpful](https://swag-site.herokuapp.com/helpful)."
      ]
    },
    {
      "cell_type": "markdown",
      "metadata": {
        "id": "l8Xq7pasu9Ah"
      },
      "source": [
        "### Software Used\n",
        "The demo web-app is written in [Node.js](https://nodejs.org/en/) and using [the Tensorflow-JS variant of the Universal Sentence Encoder QA model](https://github.com/tensorflow/tfjs-models/tree/master/universal-sentence-encoder).\n",
        "\n",
        "**Note the Tensorflow-JS model is different from the Tensorflow model used in this notebook.** We used the TF-JS model for our demo as we deemed the standard TF model infeasible for a production environment.\n",
        "```javascript\n",
        "require('@tensorflow/tfjs')\n",
        "const use = require('@tensorflow-models/universal-sentence-encoder')\n",
        "const model = use.loadQnA()\n",
        "```\n",
        "We used Node's `fs` to load our data.\n",
        "```javascript\n",
        "const fs = require(\"fs\")\n",
        "```"
      ]
    },
    {
      "cell_type": "markdown",
      "metadata": {
        "id": "VppgzjVVvAnR"
      },
      "source": [
        "<a name=\"advice-encoding\"></a>\n",
        "### Then we load [the advice](#advice-data)\n",
        "- For the randomstuffifound dataset we use the advice for both response and context\n",
        "- For the heyfromthefuture dataset we use the advice as context but remove the \"Hey xx year old, \" from the beginning of every response. This is to generalize the advice for the user while keeping it contexualized for the AI.\n",
        "\n",
        "```javascript\n",
        "const [heyfromthefuture, randomstuffifound] = [\"./src/assets/heyfromthefuture.json\", \"./src/assets/randomstuffifound.json\"]\n",
        "  .map(path => JSON.parse(fs.readFileSync(path)))\n",
        "\n",
        "const advice = {\n",
        "  responses: [...heyfromthefuture.map(v => v.slice(17)), ...randomstuffifound],\n",
        "  contexts: [...heyfromthefuture, ...randomstuffifound]\n",
        "}\n",
        "```"
      ]
    },
    {
      "cell_type": "markdown",
      "metadata": {
        "id": "MNOYFXQvvDuy"
      },
      "source": [
        "### Generating Embeddings\n",
        "We also used `fs` to cache advice embeddings and reduce overhead on app start-time. We figured since the model is entirely determinsitc and advice is embedded independant to questions, that this wouldn't cause any isses.\n",
        "```javascript\n",
        "const cache_file = \"./src/assets/a_embed.json\"\n",
        "const advice_embeddings = new Promise((res) => fs.readFile(cache_file, (err, data) => {\n",
        "  // If we had an error while reading (probably because it was missing)\n",
        "  if (err) {\n",
        "    console.log(\"helpful_api: advice embeddings not found. generating now. this will take a long time\")\n",
        "    model.then(m =>\n",
        "      // Embed the advice as responses and contexts. Get the embeddings. Convert the tensor to js array.\n",
        "      m.embed({ queries: [], responses: advice.responses, contexts: advice.contexts })[\"responseEmbedding\"].arraySync()\n",
        "    ).then(a_embed => {\n",
        "      // Cache the embeddings as json\n",
        "      fs.writeFile(cache_file, JSON.stringify(a_embed), () => console.log(\"embeddings cached successfully\"))\n",
        "      // Return the embeddings\n",
        "      res(a_embed)\n",
        "    })\n",
        "  } else {\n",
        "    // Return the embeddings\n",
        "    res(JSON.parse(data))\n",
        "  }\n",
        "}))\n",
        "```"
      ]
    },
    {
      "cell_type": "markdown",
      "metadata": {
        "id": "fZNC2RNXvHKY"
      },
      "source": [
        "<a name=\"relevancy-scores\"></a>\n",
        "### The Advice AI\n",
        "We made the following function to take a question and return a relevancy score for every line of advice in both datasets. This is where the magic happens\n",
        "```javascript\n",
        "const zipWith = (f, xs, ys) => {\n",
        "  const ny = ys.length\n",
        "  return (xs.length <= ny ? xs : xs.slice(0, ny)).map((x, i) => f(x, ys[i]))\n",
        "}\n",
        "\n",
        "const dotProduct = (xs, ys) => {\n",
        "  const sum = xs => xs ? xs.reduce((a, b) => a + b, 0) : undefined\n",
        "  return xs.length === ys.length ? sum(zipWith((a, b) => a * b, xs, ys)) : undefined\n",
        "}\n",
        "\n",
        "module.exports.get_advice = async (question) => {\n",
        "  // Get the model\n",
        "  const m = await model\n",
        "  // Get the advice embeddings\n",
        "  const a_embed = await advice_embeddings\n",
        "  // Embed the question. Get the embeddings. Convert tensor to js array.\n",
        "  // Get the first element because there's only one question.\n",
        "  const q_embed = m.embed({ queries: [question], responses: [] })['queryEmbedding'].arraySync()[0]\n",
        "  // Now that we have the embeddings we do the dot product!\n",
        "  let relavance = {}\n",
        "  for (let i = 0; i < advice.responses.length; i++) {\n",
        "    // For each advice compute relevance via the dot product\n",
        "    relavance[advice.responses[i]] = dotProduct(q_embed, a_embed[i])\n",
        "  }\n",
        "  return relavance\n",
        "}\n",
        "```"
      ]
    },
    {
      "cell_type": "markdown",
      "metadata": {
        "id": "3dEWUo-FvQH8"
      },
      "source": [
        "### Data Collection\n",
        "We store our data in a postgres database table with the following structure\n",
        "```sql\n",
        "CREATE TABLE helpful_data (\n",
        "  question text NOT NULL,\n",
        "  n_asks int NOT NULL,\n",
        "  ask_time timestamp NULL DEFAULT CURRENT_TIMESTAMP\n",
        "  id SERIAL PRIMARY KEY\n",
        ");\n",
        "```\n",
        "To understand our data collection it helps to understand the workings of the demo\n",
        "\n",
        "![swagsite](data:image/png;base64,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)\n",
        "\n",
        "When the user clicks ASK! the following method is called on the server. To handle ages we simply append \"I am x years old\" to the beginning of their question.\n",
        "```javascript\n",
        "module.exports.log = (question) => {\n",
        "  pool.connect().then(client => {\n",
        "    return client\n",
        "      .query(\"INSERT INTO helpful_data (question, n_asks) VALUES ($1, $2)\", [question, 1])\n",
        "      .then(res => client.release())\n",
        "      .catch(err => {\n",
        "        client.release()\n",
        "        console.log(err.stack)\n",
        "      })\n",
        "  })\n",
        "}\n",
        "```\n",
        "and the website displays the most relevant advice according to the relevancy scores [we mentioned before](#relevancy-scores)\n",
        "\n",
        "![swagsite-after](data:image/png;base64,iVBORw0KGgoAAAANSUhEUgAAAqYAAAHMCAMAAAAwIpoMAAADAFBMVEX///+cJ7AhISH7+/uenp739/fx8fGwsLAAAADt7e3V1dXBwMHl5eXc3Nzz8vP///n//+uRkZH4///p6emsyOzx/////9f///H/68f//+H//8n/2rj/4aftyavH6/+euNlRISD/6bTHqp43IR7p/v/HxseCAwDb///TmVAhITfR///i//+qnp57e3stLS2en7efrMgABYDbuZ+0byD8xoS42v+en6tEREVKSkqy5f9OBACo4f+3np7/1pvC9v/Q9/9mISExjcpbW1sfIWVSUlHs//+5urmCgoLzu3poaGd6u/ObTSGb1v8CgscAU6TG/f9fqeIiIVTa3f9psuzR0dHrsmmHNRiGw/dSkMw4dbX40JYEARv/z5I3NzfFhjfi4uJur+EfYKiUzfUhT5IgbrMAA1oaAADv7++LiovgsXHiqF6pqal1d3TnpVEgTpv/+MTFgAD/7L8hIX6yczupYCD0x5AhIUuHx/0efsFPm9XJiyHAfR2Ozv8gOILg8f/+9M1gYWAyCADP7/+/7/9Spub/3eGsnqwdOHCGISHOzcslN2DOkDRzKx+ixOb/8NtgPCfmirL/9taYl5ZwRCe37v/w2/P+7e2cJ935x9NlDwBxcnFcfrAAADOfTACy2PMgNo46X4ZbdYs5S2fAh1TD4vqcJ8MhIZGAZUPw3sHTxLPQtZ6VNyGvJ7DIx/pomszZJ7M+PT2OUB+kpKVGbJmMhnEBDEedauOhrbV1iYwjR2qj1vXIJ7G4jWmmf187HjmSWTd0WzNYNR//9+4AMYnf39+Estmxp5+/0NkAcrqytLG6pp4cMUUAHTDfcLFBY3hGLxmHvuaGd1nxs8rlwJOZbkWxZADD1+2gjuxEm962ln6UZ1B8oslkM1W4svTU8t3X6sXr1L/tqbZzkrU5XZ1gWJUcPVLVRbC/t6N9mJzHqYCvnu6cRd6IapQXb3pcQG2cq/K5dMUlV3mFVW2cSdHGR7DaufOKtcecpMWIfrDhlc5ipqq6nZ+jeH6prvPi/+qtk8j5y8HBAAAwDklEQVR42uydT46iQBSHTRUVwiAmhDOw7NrimhAIe7bGZZvgIdi6dekpjGeYTd9qRi3mtf2gHo4N9OJ9m5lBBEc+q371h2LBMAzDMAzDMAzDMAzDMAzDMAzDMAzDMAzDMAzDvIgrbrgLhvm5vKqpylORHL0FwwA/TVNViCtZsGCYLhxxIwnm1NQVdwq1+EFsM3EjlMSOodlvwYxElBpDnBk1VW/izvr34gdRizvZljWdmViLO+X7fJp6jbijD4ufg9oLQ86azgSEQoOOuTR9pNoIw16xpvMA8aulkJxNUWq/s6lY05mA+AUJbB5NoThtflJhek3tLQ5rOierkwBq7jf9jC+ANGJNZwLiV1OYBMajUCi179b34M6azoe8f79vtUlgrCkQJDc//caEZtZ0HiB+OaZNG7KmX1N79ru4/bkOWNPZyE1npdeYBMaatryX94pGuSa4s6azAPGrfJfme85ZU0jt5hsJEvMlsaYzESRtb8tBmwTGmj6k9mzb9pVtKtZ0Ji7tBWiruCRgTSG1myGP3DgoWdM5aN08rWDE5cKa3mjd9P/+dZmZ4M6azkKsoXHwq01grOkVtQc15c4Ed9Z0DmTYVvRwXXTMmn5K7aH89HPeK9Z0BrbZ52ZTDQmMQgb1PtNC6GzvLifTdHW47NOrMDrdXw6r3g9XOafsttebu5SvzTrZVJ9zahKwpjOQQ10G0tLzT5bhWXwi81WHprEmCucofdhBvdk70VcfjXikydUCsy30w4e7rP4ztUMEguDusKYTgeNXtjT/LMBaC97OeAA0Adb0vSQK51iDCKSmnnMWmDfk6bKVFEhc9b+pHbysNubDsqbTAo2mnYTClZ5/clgLTOLjSt+xzyySOyigKE3lRyIwWFOZJ527gVwY66dLfrVleWmKftZ0cpwvX32Ukt3Ystaii3OMNA2MMr41FycBren77SVaUxVq0Um5/M/UDr/YSztxnDWdErASijsZUglMOlp0kwWgKXhnubK5eVWRmi4bQWgKoaWHMvq/ueL114Z/tmVNpwTiV4i2tOJi3H+Wro+BurlRmTR4uoCmICK6siBxW5QjTbGlcNLqdlLpHXbJV03VThiSYyCvey3dTBgK9Xxqhw8DW0TNmk6LKlAV3zZ7/L5ceu5qlnhHfTvQV02j1NIkg+kchKZRCT0K8qHb6aQ/ayqPZjftwFblJmZj/j+zTgqFSv/TijWdDohf5WoBONayx2uNOUX9zSrQVIaWo10gX9g0hZpcHxVqAjqfNsVnI/Njsg4yU+17/3GrXo6/rk3Fmk5K3TGGX23AFYzTRkIwG2RocemjQcs5CShNP0zMOOdE0G5E1y1/oG/9X6kdkIURkTWdktXJiII29l3TYI3bIyADaIoyhGupVQlNt5mx1CfLv74lqOrn18rwocsXbUwj1nQqQJS9Iq4pMuFcWW+jdtFGOAcQQgMKa4rPqd1hCQb2Qz8WfXgmtcOnw1GbNZ0OGYJVuGUDCQxfpqPsHlxsNcVHS4KeYzUeoek2g54nK7Vlv5o2CH8J8Olw1GZNpwFEyba4IMH1He5fwtSgKTrahRiKxJrCQWEjPQK/iS1hpVw9mdqd7vonCVjTKcC963g7TmASBLZUu6Ap7sXBQ5EBoenqZCnAkUH4PHAUvDgV7XzVU2FcWNPxIaaZLLOeF6IUIp5FBtAUD7/iCYSEpr8gNNhxsEBYocNzqR2Xvk4b3FnTiQiSvkJz19PsqTbECFVn2O0efs3bJgqhqQufxQZ1Tx2Mjz2T2uu+qTo6Zk0nwumtwWPdXYJ9oBF6qwxoAhy2Ko0ITeVu4O1Znunn9Kz3FRwXNFCfJEHvaqehZE3Hhe6kidLuBsQRNlM3meAosKk677omNF2ZMBiTdcPa2h/gPqVQ3t9pULetSNZ0EmJNdo82HrLoSk5qSvcGXUxxRWkapQPbPgdBgMSjF4jObc1E1nRk6Bl71QYSGL56hyc13WZGelRIForSNFi37yX4+BZN6Rl7qmjDMms6JuAOAUqhXgPT2QlNrSM68DvwF5SmB+jOsuN+o6aOoNlUrOkE5GIA2RZpChZRmuJZrfLLFU0jWlPQawJNIbXTOKzpqEAFTlO/rCmebQQbnMWP1NT8qgjSiDUdA5w+aU6r1zWFWtR/FCEJfqSmshCD8FnTcQFx6AT2gqZ4zp586Awt1GBNy6HZNJwktZuPz5qOCdS6NCHWVBwo+V3bagAgQr4YoKke2NL3odH3IrUYxjpgTccE4tc6j/t4QwkMdSeSg6WA+/DOHA5Nd0gRJThKB9+V2ou4j/bmqpo1HRdVQNlDtCNyZBFq+aAdXPtKVeoNDkNp6qXPjUKl3jel9k1Fily+s6YjAvHLtz1AFCewo7XEAqfcvhVEsi30nicBrSko4dBj+tCp+xIO3VPrtsGdNR2VGmr0Zx5d/kG8rdqApqhwhlcuyH+kKXAk2lBoJPebUns96NHlrOmIrNASZBbnHDSLTfhE90H/3Uh7Zc4OPhGa+tTzQvGN2y+Rw6+T7LLKlqzpeOAhezqB4SCAWaagaY9FSdCePY2GaRqlhH7E/R8ExJA9FdxZ0/GQIUyAopOBjtEbz5W9J8ftn85Rt8I6C6um6JybeOAQ505+w1xx4RLJoJWZNR0B+3RSOoEdtKURFayRprhw3qtVCYUerSkkjTIaVuufwWcSajopHdxZ09HIh8U9VcAlgxKr1/CoFEhTfNZ1cNdur4ZqqoqBA53B2r5E5Huths06gYhBB3fWdCxUAaHTSqyRdbnZpD9Qs+xN2DVdmqGnD5PqKE1xKV2sFojoAy101uPpIQPPSf3ygWMAjceajkSQoJKASmD4yfu6lo/7Xl84l0hTFDKPITSgCE3RUpXl9usb3CTsaMJlVedy/LSmMkRNeCq4s6ajALnqF70nTgeHszCctg+63BSs+zSFYHs6wU+E0hQ2G/TR+yxV3DxKket2v130YF9QaDI1QIkPzTA6uBeSNR2F99IyzEInMFiFV598T14tCo5r08hxkaboxJsN/okMWN8UTpov5e1oh13yVQp5hP1Kd6tu2yL/tuMgTXM0R48O7qzpKMSaGmZBVXwaYRUwWUA8F+oiWvaK0hR7isFSqN1Lk03VHv6/FL64U7OmYyBDcpgF94T6NhUgECJNcSiGFgqpKf2ECCyFCukJonRqD+XwXr3TijUdAWqBO9TIxkvooGdEmLVvCU2haymNKE0RqtYWTQHpnkU32lF0Fn9ifcmwDe6s6QjkqNOISmC46K2aTgdAU+LczoLWtLOtjkguCu23112ShtHg1N54z9ymE0rW9NtRexT9SalxkFX+g6jnY2S/yQSvekZritmGyaN6pa+69zuLLzvmqydSu/PU/J00Yk1/LlG+S/XV95NTycVEyKW7a5KreOnJOSjbY3/f0purWbNzA7lgGIZhGIZhGIZhGIZhGIZhGIZhGIb5wy4dqyAMQwEU7ZAPcCgiFCu4uAhKIJ1c/f9fMhThIYpIwQ7hnCEZEh5vuAAAAAAAAAAAAAAAAAAAAAAAAAAAAAAAAAAAANCe3bnUM6fLqfvBUL8tsTn2HexrP99zyK8v21sfmc71xUtKqTzrut7jql8/ZJoP/8s0tqEJizN9T20oddw0xtja53wN07h2prENLXiwYzapDcNAFM5C0EU3WZgQMIohmywbDMkN0sv0Ht71Cl110Wx7iJb2EOlV+p78oomIQqGEUoQGbP3MaDLgL0+yr4epvJuTI4F/DU2/3v05pqqmymkZZpjGjRKDboQL7vWub0idcwhMNv1hEcIR1dr2CuE8wat/ZMN+e3dAMNMyFYLYcC0tJHhHXsAsflUJ1/LyjMVt9MPF7CqRq5L4UNuYt6ppIWaYkpZNuBFOPPjtgtNRlfZnmEoRfaAOEcoQCcIyZqKvJWHB2y/0o6amPvySO8XUsxIVQBeSPHTo0cWUjWGIeKs8wbStZ9NSzDtZIxElBi3Bu/lsJjM9bylpBlNNcFWiXuhyGRsvQkWmsNdAI6qsYRo3fF3M3cPHAMwktbAQqzxiWrW0KDM1peoJMILjO9+JG+BAUPKYMl4kpwQxRWgUJIkdt3vDVD7mNUy16x8xtf8BArxpJCd5WeUR0/otqygzTKVBbEDKdLmZDysf5c8xLo+pC5ZiSheGbMICAUi5A5SJmsqXYtprA89gyg2AEyoiqbxiWqhl1XTSrl+G1Wx4XkbhIl5ZTIlOPvEXItQYpuz8jKk4y2OKxtm5gKHnalq3+7LMMA2XeJgPe0ravT1uopXD1Bxm8n8QLDUppm2y6QMynU1FpzDFTBZTDdRhoVY5stZTaYF2/qa/Daiw651oaDV/8U0f7kZnTxlTdLExTMEkUoTsMbiHE3N6ifOuw4iD7Nl0ersb41TFG1JZ5bxhdTwJVyvDTjC1z6NCD3Jm3zVFKXmibQxTgKVlCRh61enZGKYM3h4gwEykcMRwTt9nm+OB92mZxXQJlygV4rFy5cI5o2Ja7fomlf6Fgelq1S7a/8C0vix9s1vHRAAAMAjEltqof5s4YGZINPxxUG1kakypFjL9cz8BAAAAAADCHhwIAAAAAAD5vzaCqqqqqqqqqqJRMApGwSgYBaNgFAw8kFIz9Cddl4yVL0W2FqRa41cwOLyJC5hw+DKMAiigS1QRjr/cVOvRZEogmcrMnG9PlE7FmXNqRtM67ZLpir0BA5xMZW+VD/1kClAuB0fFaDKlXTLN5WgZ4GRawDF4kymxQHJu+2RDu9FkOppMB3UyjWl01OAIHk2mo8kUoEGdTKvn1Nha+YmOJlPio6rwljLH6XUwwb49Bzk4nj6qgyZC8Zf9HGdm2yOaVGDQgppM+eM4EtWBcuV9e5U5uo4KQduQyxs5zizoBbJsrU6AYkT8KqTboAGkEMlU4lYjR9cFCBdhOT8wIiHFDlhrvpqfKCyRgkE5smpkILH3PEf0oiQQc8UtZSBTXhSrN/cqA/3VhKTx0Mv+NI7Tj1TAAeSncnly2pnNckjy/LLLgVo2N0N4lw+kRe9MAqUwxZmHtaAlZIUQSCeILW50AGjYbJDTBPacB2uDA4h31AXmbvUZTaYAEZ1MTayid+5Y3vh2Jliw1Iqja8eWfg5na3AiPBG3dceW8xx56lDFpRkHOD5mZPSiJFN+jbREdVAS/hYGNCktuhLc+irmOHMuY3ljtKMQsCVmaAeOHI4boHibi7C+IPWkwscMYJQHMKBZ7gFWy6DBAdZqkgbLGZczJnNszsgwRVGNAJmNYN9AXBV9LuOiMjAHYfMmUO5AGkwr2FUg0w5yJKqAk6kG00Ig53AzcqfnzEKgllRrcL5MO3Nuy+ToHGAK4y+IBuYZaMaCJtP6jUDFW/pBaqV7QPambU1CjoFQjhtgYjSZAtgzm5CZwiiOy+ruSCEMEfmYlUExymiyGdNc1GR8XIm4k6YURaaG5KMsfCywmbyElGykmJKFMKk3I7JQPjY2ysbCTrLw/z/3XMfpXrlle09v79x7n+/n/J5znuc8GTGFMQgfRROLj3jjfFLbwyIhDKjjaVe9uuROdfqd9u61LmXiJmc6HVhnvW2LXL1BEy9Ok7VgIpSINsan/MY0WLKFKWjONo4X5AXgE13Rs4OGdfo2t665E2eI0YWloKC952S0XKopwwRBbHbv1N+Y/iSS05eDNUxQcGwOXwCSLgBn8WvtKjHjiN1C8fmpG1tIwXTyoWArK15WnjCzNcYBFvraSboVDodmOMc0I6ZnZScPujbq26ReUCeEJeiOls3/O6ZQNnlgSpf40bqoDlAvtIcTAzdkG3rhZdZWV+TIEGkENqZxqBJ5Uf+XfpXpqMRganPrATrGGXyEZXGwpUpimK6ItGGkhuFhglgNMxM6667Boda92PPZEhpASbQgmALcKWo3o2km/hStlx3PMc2Eqfhj+ahv8LI+IeHGUH9TMV1x4lhFUpr6S58tzjSETYkszbsdJ6AYsKrIQXuyR7WNs5o6/pUqb1G0sBqsGkxtbu0Ot7CCQmyze8GR5DA3CmasSuTZnYu377UjTLnG5Fc3p59ePFg13wNhBdathAF6QV4wpfuXMhiY4k/RmXI055hmwtQBFH/UN6cJQigvnPx0TD+vHlbilCOag5AJVbRMPWhrx+PGzIVdGB9BSfCM0Us23oXux6cwwLCZereY2tyxz1cvrY/oSmKYnohiiq2sF9y78YGdJ2wJt7N9rueNXj3AVGjdJIwrArjN65M5luTmu6I7XhGdNsyAJxKWc0z/C1MSmgnTr62xXQlM5UVJpEc8OyxOOjAsrlmN5H9h6tNcDovz+k1A0Jx0QDuchqmvbJ62j9KvxDA/P9xH4VFMpNO+f0uKpWJa6J85Lxwyk2Iqhn0/VpJiKsXwOIhbOv9H0HS00slrr5ljmg1TPqv+WupJq9kw9WedG6snMd38h9O/zC3d+IyrVXweNPCXiqltnB550KiFl/F5fGYLlspianMrADSs9pEuODlMdebSTdmmbv4bph2HlDvZcZuhmLpCTdk9s6SckCh4hMFU0c209HHDohzTDJhi8yRzVmubI9RO6DYbprAzPMxaTPUIxe0i1VW689jVePoAVJOKqW2cSkRelO2V7qwWvWpem1tHFpYTR6gWemKHydhR6pwgJQVTbZXlkYRT2akIOBLmYhfb6SOkJGagarahRpC7VNETX47pvzHVEE5hrsO08DvKs3uBxVSdqVo2ybEGnFpMCU8ckBrjV+wu16N+2NavC6HCVExt4wTta/80Wxy8MQfy/TTUidxi8xCFkoBUJw5IISZrh8kVMHQMz76r1tT5hM7Ev1pTjpvlkSSDY24/wjV8E5YV0+OyEVpWZujL9fLg9wUaNO3qUKo5plkwZaSake7gR/RxhYuZv/ZwereYakQm+PZgl8EUDIBTgynwOMTwPgP3kpHK4dlaDZnF1DZO6XlM5a0AjKrKGoTm3xw1uc1obiKa7kePcr+QHGYHd0gM5vt/LNfgFQLy79MxpVFGa0/aP5jEF4bv172XCmqBhKCkZKHvjXA9gO6jXncJQbpjE6ozUECMOcc022UprgWD69f4US8bn4MLi6lScsl7WTeYMk4+2GIxje8Lb5yKlUOvSzumbVtMbePiYBe5/Z2rUOXwU2/UsLkpekU7ujJHHkHTtZRhShovUrVWdzuafoSi4FIX16OShBtQ3rUKYTD8gh6T5dZX7ml5SYvHjwt0lQ2LGucP6jmmueSSSy6/2IMDAQAAAAAg/9dGUFVVVVVVVVXYg2MaAAAYBGA75l8zIghfWwAAAAAAAABaD3sHAAAAAAAAhF04pgEAAEAAdNi/sz0UBgAAAAAAAAAAAAAAAAAAAAAAAAAAAAAAAAAAAADAuWwt+3V0AjEIRFFUeYwQ2Phjgfm00RSUEtaYZWuIl3e0AeEyMsajJNp1rDj6dcoxH+RMQfQPNDDnkRwqx4w0gCQPVAylJ9J6K5AzxOBOKTTcjZbeN5DeR6vuFEPprvTKQNfo1JUiSNhKn049TgmUFLVnqF6dKYIUUVqGasXfPoGkqNsnQ302j1OEmemRoQ5nSqAhajsz1NmcKcLMdM9QuzNFkIKeqXeo1WnciELO1Ks+gZypvZ8ztfeTP31bgKepLcCZ2gqcqb3el137eVEqiuIAfqNXwQS+eGivIUwQIyhBEcZV0Kr+AP+N/geDwKBF4Sx0XLUaocRH0GJcuHMxQuDGRa6saTOBLWZhQ0QEne95x7leJwoUnIZ3vwzzfp33dPHp3Htfc9F2U5vzEMvU5v+P7aY25yCWqc3/H/ve1OY8ZKVuOlG9ruw2JzVgqOO45L/FmUBV2nPFzbIa6qNRWD78Jse6eCdRwabEz+I9txqetkwjm1WYNkt1D4JCk26tVrs8x3Ss6jCoYboxSJQ7iWitFlMQyDYzMX+wwFQNLVOb1Vf6e4lhpiK7XkWbZKYjj5XqBPVjd3CiNCyflqozwz8SDZOpe9EfWKY2K783DfxD+uHdI/X5wjxTItwDMp2vDxt7M4lj1Wgv9uUu/RhM/WOaB1imNit202a50h6poTAdGkynZbJlZOJWm6VeNxzhe8BtGia7VZPp2xLsa6aN88X0phNXs1y/n1I2ZzM3HanPJA4dD+O/+6M9xxS0TvVLlsg3LoobUzl6rcmUOvLhupneyAqua+n8w78zLN46M6a9N/uO09lVkckKTHnAD2S+OfFUnaHKeD00a4EQvxh1QL5PGaZf/qHJlCcHlukfP/vqxpuss6UikqXfm2KghrmR1xCHWLyHZGnPx56OcBaJAdxBK6XB9/JDfkGvwbRJUwfL9A/pJfirRmcmsXw3nbCqnTLPNwUqgZJuai7zCVy9yxKH7JPLxngj1RDDcI9eK0z164LujGnZMjVCD80nVESyNNNmSUmqWq7XG4TCAlUxnI6UBBL1euuIme5k5KI/MJlCdONsmfZobHU6H2ivwCyfoIXhYiJk+pomiUW6jOhyzdQ9oIL8xzmmL784jpMCsGTx1kE2dyes6TyV65tpOoXteyh8/R7VGflmesN7L1RksizTvUS9xmF5kjE6LIQRYn2auYXFl9wB39rVTGFYHoUjk+m07A/Okun2vpPfoPVKHOxegZaTuwesqOLDTv/5vhzMlwtTt8AFHcYtPbDY3/jipDwwfZ51yGSSb4J6eeYWNvg8l56P6lxZM9VfkM5GJMu/Nw0gkvmEKx9hJ0zJF5Y/eh4rMH9BIhkeSn14CLuoAl+DKaYWFTDlrJ+p32I8vNlGR3Rbj9/tgtCudL58hk7GFMcopxrYhkdgPWG62U/gMcWnYPo47s38b6N5ItKwVYEA43a07CxtNFP5fvQh0cmSTJsnOgOYC4YwOQU4EbaXEIshtsbMa68bXmuLWm0YfKuLTJuBiq2XqTMLMZVxFVuilbtHvbB/Pw5C94Tpd+xIjHIwxT0PZvKMJGEsCbxUQx/ELO9igxMElP9VyO28NZhCfrSULsl0JIM6lum0F/D/0XvcQUXYyAMv8YddLRFO3RpWUGA6Vg2t2WQK2Bnl8i1YTa2DaedRmCzpwfjLHH/mE0zrZu5BK+VtpuFLBv0PnpIY5WAq80tzCeW+vnrlnYNKLqcaJ4y4A/CtcIUmt3OlyZRbcIQiTJce89FXqYVOjy8phTenWhjxuyg4ZTKKHDFvqo/hw2t0gxhGdh76hwZTZKyZrnvQh0x9gEuFlJfM3bmRnRlxD7JOsS9QzXIwZZ4m0xv7TvHR7RYkopwX7BthMgoB3JTntr5n9G03TzONVjO1f2/6V6bQJHAU9dDNdJwqtqinzjXH946suM1yYeqZTP0035vUTLn1minkHmxjbiGXUL67yDQ67/btX+//gylh0JNN6Pn0DCPxi4IB6xreICFmOZj6fAn7zFSDLWimPiaeZqhbJ3HSn5+byvwWj41eLNPf7N0xTsMwFMZxI7egFAeGgOjSBZGtA2LgCD1B944ZOESlbh2KxAWYuvQEuUAFSi/C2iPg5wS5ElLn5OX/A0XUMu3yyc57UeUzMfWXv9J9FRJSSbXzUh5kjrgdykVqK3E6vcnTxF9k/CSmEvHxNMbUTOpyfrw1omkgPMpYrPQ3Muiz6t+qlzFl0z8TU3lZN0I/64gNNiE7TTtKRqStGYMTp4eYhlSV37uvstn0pUKXGdO3GNN6zvpHRmItJq/C7PABz09h8NW3YKtm75ceVW/wPf3zMTXvO2lNrZpOUQjPciqrZ/AQHzqJOL2JqTyWGvh0nZRQD36g3MZ70//vEj8iPMSS/78Pf098uXY37mNMWU1badmn56Dcm3Y1ppNetZuIaTdj+nHo145O37SDMd2tDyymrKZt56t7UkpM0T3WcOAOWs9yfBk6gMMg0X6cWYou4ARotF9onCaL44VKx0VCBaWC7PqFS1Xm9Ji6gsVUBWvCzekon1VXqlSzfMStqRpWdn2XzvNrZfJ56tjztQjLaeL26UiVdJTuHQWUHqEnVSRZ5lzm9MiypCClikhO/SNT71KNG284JKWqWDFUxlpLSnWxxmpkoIhtkuovqn4MOYVGg44yvWIV/QIAAAAAAAAAAAAAAAAAAAAAAADAL3twIAAAAAAA5P/aCKqqqqqqqqqqqqqqqqqqqqqqqqqqqqqqqqqqqqqqKuxcXWxUVRC+uUYTY8I2q6VW+SnZEnetUWMbtSFSCsaslYc2m7pts5Jt8WWJwaxL0fJXUx7EIm1KiQ82gf4QqRobG0wUAhRNiFEShZSQAA2gQKAJksCDEjXq95077dnT1a1bStvg/R52u3vPPTPfzJw5c2YvuHDhwoULFy5cuHBxR2H2Y7utqUPbwSqvNb0QwvW/5OvvHn4g27oTQZITh8ff/dMma0bA47cDHQXWFKGt366os6YVQnjBe/a+/ZagJs/uLLbuPAjJiSLms+3VJdZMwHN5tl09ZWE6+yXbrp0aaekJ56ywsWC0N+137sAwFZITxZwltr1yvChtWZhv3X5kFdr2xs3WlKHIZ69dbk0fhDDzp90gX+Xiq+sZVj69p32Xfprn6f1mJhcLQnKCyF0z3uJtOfCDbe9abN12kMnaN62pA6OkdBqrUyFMNV4dyeqVPrgj8+3w0tLnfdwaZiyE5EQRGy8V17QGov4p8WbOVEcN99w3Fk/ylNe2/Zdhwc6dI4SpxbJF8v3rL2e8MwZ9dvMxNUtoCnSfIITkRKXGX7YD0fSFLyy51Q5btxtkcktbfuPA99uyM95KAhsml8Qq266CFjXPdKTbuT3rYHavQ5jB2pB8uzfDkwkCm+9LnDCIPfNT0y3pfjsgJDOWKj71+FHC56c/DS8rtorMPV9sMcnwoMYuv6USnTV2ZgiK8SZxb2OcYfWnD7fZnyBMhTAOBxsX62SaIQdMIpJWvZqt1jpmviXdbwOEZIZStU959+ZxFlgDuJdZGhnYItO0QJUmfh7CgspY5hL7rcnMH4y/6gLEDguxtFzhGiHst/VuXWkHwhn7/40dTrt1txw16PSJ6z4JaHkhpcFJkplLFZ/SnKH0NUFKRaFtMclY9V+TafCYlYpGdJeiE+lJvZr/jxX5mYnx86xj5NXkpV0ytCBcQ8JMoDifanVqCzJTx2/W85WypUxY94kg69Ru8zQz5hQoJNNJNQmaPuWiXv3oOKGDrURw67ZI7znZFnpPHNrb5Kh5onn5yNUD/AlDlo4+ZBg6CZXze97ZP2Z1n2q1u494HYt+NVoIzW3vnr/e/vBRU6jESyBqdjs+i3pTc+Jh3mxi7m4I+fdCLKvHt4G++bFkhHARglXvUkimnlhrxyZn8HBrM9ROVSfnqfajfdni/7Xhe4hZ4thAWXKubedRzbrbYKEveLJTdT8wP9XhNTfnWSYMmwV9yeHAgkfi48GDPooZJdmW6D6C2b/2mlINgqk+ZRSWkfRx/AylpzUb4GFL5veSrmmLeuopZBv/AD+DQcYHqAZ6oMc3wnLOezaSUu8mxxL4LjcBv3IHWP0IdD1xqM874o08W+FCCaptn7mI4PY8e9/83iFGfLzfHi1X8LV9qdXe9agWqpcn+5n06yFkPeYH6YeAcmsAX7Wd7oJxg2bu0/cSAdlvoOmA3V1seVZ1zUfRuqVikUE4p5CbtmAr3JLTUzWYV52tQonThFLU4YRAg9dq+eigPYqK/etshaMgaPQNinzd+zULfQEnk07QMFDvsynj/EKYXd64oHhfy30nnR4637TNOJly3WB7c53K7wBTvIedMiZWISl1NMYfFc/9m71NnyIKEa1tJM20pafVocNcLfNnYy9rPubRtkBdxNG5icBeKKsOY439Fx5JYpAJ/Gy1YzJ4pqudWYo/xwQ6zr1Uwa/XsGhbhbCgUGb4+q+g9Gg9MovS7/fyTEjXftAKPwsYtyubrNe3hJwp7e7jJAsyUHHzOm76Wqh2LyzDOKFYNdT+/jAMSels7VaiFmJUlY7ZEU5tg0Au4yOzxpRIKIOZUCK+XbD49p1CmCrp6vihT+xyj7+6oMhetgNSwXDfcTuUos4CvDe/lldq1V/Zfhi8Fy5ceF8/rf917xbEk5YsYQE3U5JmIRfwDaLH0F2UpUFg9ja81T4iJaKyeDUNDyUMR3FdljlOh/fVkSh7famTMDoP404hyXmkGG8wpZoETZ+qKCxngnGCU0/roOW741h+vFHmh/mhjthCKEUlNUMSPAf6b3mTGGQAuIipyQ9V9ueukdjB6gxioVBThFN9HsICImhBrijNSDwBBMlhc1Yh/CwIOv3yWGADRjGXZkd8pWprYvSuw5RaqF7c3C8YJzAQh6IzCZ4hDOUagSv4mlsoGugVQR9DWaOUwkcGQ6V6jSHNZCWghRA2Dk0R37LiGHaErQxTtgqr8ougtqmOYlG9aU5eyOHN2ymDqzmotDM7fLQAJWkWckHatqbuRbQWTQ+zNw4wZ9PPTN2wPsTT8CSibSYxxntYxMA26EV7VoQpllkNy1JIUtkyOe8YUg2CqT71Q2C8/50XXuagpGllintUCXvPPdkyf5C6a1vgBqjH2Th3kPLAIZrMIANEfJgF9oOV8MoJfVgNnL2UmoIns0EpFyYF0WY6Y/I++lyZDH621nGxJVco9XlQFdaoOMbjPZc6lyZtGtJCtYF4UOceSYJcGMy/EQylx8Iqp6rcbBb2/Jo7pl+MrWOea3cNFhoiA5av95ECCdOpsKneUF4dHFoE8dz7VcLLKcRVUx1OTyFwtf59wq+skbMeZjJ7leUSygYLaWJCXUxi6E5+5bmJzstIYAw8DoC+iL+aQ2cSeEOwMrYNR9nYYHJ7bBVqwDpkztk3C+KsK2AjDBaSGKgyEScwpBoEU3yKq2819q9sqlT36WmT2zVvbGY8qtsVBUvbQgWvkABzMEKUGl7PBFtxP2cJMBaQujl7lKLhV37YePniWZ6DVRVTM/RLIdKHcd4tU++8SudLmI7a5uGnm8CQ3qGnSmkfVn0PbVm2SAvV9RkmX9De10OC5MM35iGxCBxIrYK4TUOkq6jSWyl1oW7MQg2M7Op8GJAqkTBNDNvrn/N/6y9X4kspFQoVHQqZ6nAKmBf6ozSVJcCtiAqh8KWfzF6V7HYGC3VBYtvUXUn1V59dg7jyd16mciqoQwuGwlCjfMGSMytMR+GF0/ivfyvHcVi8VCZs8HpWQFchyYFl/ABdDakGQdOnUqQeSaxkhUrX6mkFFMiSQuaXnULbol4lU656ZX+7drjj3Mv2W5pBhp0hVXfiNTfBk3qQxRZyIWVQ9CX1vFsVdIGxhuogT29vkMboobtIlLMhx0i7A+ONgyOnLncqaU5cW6CFJpV0pY0D0dmO8K3iTT/yaATLHmMfRw6DELM1KvsKzap7sVwJLOxir6g07MefMGAgLIRJMywDUT5XvK3SAa5DBwyqR1vCVEf6dgvaqzfJEgjrxFNkNhjoUW4neDNYSD6DCREvhu6UWlZzsQRaRVF9rOAAOmX12QTFrzw3EMUnGF7bzMnJsQtNQYkq8A+pfQ0BmOOvCFtCUmohj59eMKWaBE2f0m0VLyIqEW4hc1pCXFw2epDKSpCu2EJvKVKGQ5Nn+1iURzWDTMAyGRpBYHygs5g5W2XLymdlz3dawO9nIwY2njtdR2eFU7v0Ea4c9RkfJZfR1PKnLNata5erSlpNXKaF6nCxl+1MRC2mD7afqQlvh9ViMKjnwC8vsXlf6axoQwvJXmXGt+h51fT1IFgRXVFRUgiDJgJe22CtOpfDgA99gkGxQ33ZpjpUA0IGWztoDkY8lJLQBTFwNVZNxSJeA1WDhSr6mF8gx9QdZll97kYxI/Lja8UqIp12kL/Ky9BNVN3F0NWOcmSX1l9sQlQJEx5WFcuGloR6wFRI+uU3N7wZUk2Cpk8lCivqEG4wiJ7WPNXQCLIqgz7SFVuIiXbQFs7GIA3/972aQSaoxKzUqOK1bvS1mINooviNdtupvWUTp336wIjO2myk/ZC6Ku+rAmG95cqtnJJ1N3xRWwC20Bp/rizRQgU0RXUP2JApzcWikvbFHczNsSg3MQsp3TIRcUyxHhLNb2vP3fyzEMGalaCNYphDCNPEOvMW2eTc2I88ypT8856OeSnq0KfX9+zdOXoHb6fIRTQTCZq1HSsdvBksnLTGCq3c1J2i+nrqGC+/SSpwquePOwrY5T1VXQDxmE3bTBn4i2vFElVobu7x4fy8kze/NnQGIoWkrBosDuhqSjUJmj5lmpBGCRe/ntbgCbPJiQtbBBXUtlAVAVI4jcqYlU1eM8gAuAsLjpT3bfOyMbhbaeXxX1kCl8NnspnRIWuXQmlGsd5xRwlWwhISiPqSEzT3enEP6zjGsAQJ/gwlC9Wb5dtI3lmMLEsaSdiZYF0+DPpllbcIFsxNRNlOeTLJYquc8yzzoPkI2s9XF78OhfNjmBVU4SchTGblxlKVpyzowI4min03O0WdvUrR8wWy3VEkXCP5xxDcgDbR54hGgwXkqFXWCnGG7nxd+1qDly58O8pdlwcfaP7zjWK1bi6WSJ8+yWbw/L6ldSrioqpN1XzlPfZtwfIIlWk7KSShAewS7HoPuppSTYKmT3mfCq1KKGNOK5Ddi+N2od/wPFkn2WIro73m+TyV1opkozMYZPbUA8/B6/HKW6+WRBhw9R2D1Fy6lCNLC4wQphwp0AmsksPhaQzXa42Rm3Wgj2HK5clDohrIPxHrSUJHdVGG0XGxQbVZyymWl2jXOn/US6uxx6OXGuMzrlTTUHsWl3xpTYf0yqWlhVGR5Ce0KvlVTPXPOJ4XPLHoGHXiZAHUo8SS7U5iUMkwBGOKWFUhLGmw4IVwbmIbG0eG7nzF6se0XCmQRE8jyKRTDBrS7DUcheQZdRJjiFXmynnxLVTG78Rc2x/FQjKiFsfFYcS5KdUgmOrTiC+gcjq5GdOOGRjhaTJWFQO5JFtkkX7jjW+4CTBmpa1ieP2/Q7QI+mi5motNfCyteM61YoYTp6QMWVpwIsdj1c7XZx4MY8ExZwmH+yvqjF5mVctwa586ikTZG2eYFzldfc6lhepnITgBSVVc+TUfYQUj4zDjpXhe4pL+nB/5F1ypOTSoVK6ozDIfAIogDV8skdqjbJRwhB1S/dRaGRpnlMBNi97M7YmOVSeHrWlwrMqmBymdaiF2uKGTYM7dSeVO/d5zjoM0C6V+sb8BVqXRtO5yCwMTYcNZRUXqzwiWJGnarFKFtBrduf1yHiyqOrOSHhYgDwtJFmSNN3auR9gYUscSHOvTCPXn0OtPlxjTCh5SBJ10rk5/IKptwdg/mwjNVqcJvMJ2gMEgszAlN3TfurbvQdKhWZ/tXg5umAw8ZM+HIGlZxPcEMEyA2Ft7rPfUEa/HHzg2d8D4vVf9OrIPZmDyrD17gKcSPp+4cXFuD/uIWqhuN4q4NvziO48ZqLT3IH9bV6lM+Xn0CUnZdcWwNBBbTytPfvTHfr3Y6fMIf0yQEywdLYQjvuR9rqUphigNy/MbzVc+v1aXqk68v+LK9iGljp+ZQzc28PtM7dmPr2KMQqUv8Hbn7qBkL80CHgosxVqtocdN3VdhLO3EsKHZr2/fiWW30enM4hbVqO9CKI3YjHEjj9gN4vmDmB3C3dzLqEzn9uN7m4QkZ7W7h44t4J5vSjUJpvg0ciis9H8WRZCe1jx8y6ME3deKWdqXJ9kCelcchs9ijEqpbwnNIAPQdMrFnqeOdz3gSG/tLKaul8J0GS6K7SHyn/8hjArOnOHW1GejW07KPQ+f4GOy8lTLZz9cgH21UI0adYzWmLun+wzpkDxCDgOQnCXkkuvQtoPLRx5oSKJfM1THawOjpn3wxg4hzK+NAiE+EGDhKc/LvEipqeq0DL9IFirjyh4Wv/qoaHq0T8832N45jwfwHSYLXrjQREUORg3d8fpEgRo6X1bKUfKs36+o/l6i3hI+GlrbLKunLrk6D8f70dd0BB7sgis0yfiJ5rA8RWJIJcE0Pm0jN4GeVqDPI3zIo7mOCg1jOm2LnFirWl+9p/lQD+JYIAwyRWx5uhMWiE82vp5lTQB3GZ+QkOoyuSWV8IM38yfMgPWXd9yncDlmqoCOsi/A0NYQksYDfZMHqW8zcN//EI39OD1MH3icGf9XE2zBU4jzJ9P0eKR3OqlQv6a7SIO2frSZpw3MTLUF4/+DzGn/j10Eurk02VOGLRdpkLUw35pGSBNw/H+BNGPgPI45uYj40JNzMWORVThuURbvZ8tzxiC3Z9JzuzSbXcxY1OQFysbZD/tn1JaPKOWWP8moxw8WLmYsZr+U5l+u985jP8c3U6K07VOcyAdbJztKpfe6wXIxEzH7ryarJcHHv/8N8cNL+YxxIDojohS91e7nfdAHDx9OPlpmyP8m6cIE+/I/2N1n8tMFxvBh+xIesJopmHvcF+jaZrlw4cKFCxcuXLhw4cKFCxcuXLhw4cKFi7/bg0MCAAAAAEH/X5v9AAAAAAAAAAATJN30xhsn7/QAAAAASUVORK5CYII=)\n",
        "\n",
        "Notice that the ASK! button has turned into an ASK AGAIN! button. When the user presses this it displays the next most relevant advice, and then the next most, and so on.\n",
        "\n",
        "Additionally everytime this button is pressed the following method is called on the server.\n",
        "\n",
        "```javascript\n",
        "module.exports.update = (question) => {\n",
        "  pool.connect().then(client => {\n",
        "    return client\n",
        "      .query(\"UPDATE helpful_data SET n_asks=n_asks+1 WHERE id=(SELECT id FROM helpful_data WHERE question=$1 ORDER BY ask_time DESC LIMIT 1)\", [question])\n",
        "      .then(res => client.release())\n",
        "      .catch(err => {\n",
        "        client.release()\n",
        "        console.log(err.stack)\n",
        "      })\n",
        "  })\n",
        "}\n",
        "```\n",
        "This ensures the `n_asks` variable in the database encodes the number of times the user asked that specific question."
      ]
    },
    {
      "cell_type": "markdown",
      "metadata": {
        "id": "lJemiVsrvWBG"
      },
      "source": [
        "### Retrieving Data\n",
        "Once we had ~1000 responses from the database we downloaded a json representation of our table as `4-16-21_snapshot.json`. We then ran the following code to convert it into a dictionary of questions asked by users and the advice they recieved in order.\n",
        "```javascript\n",
        "const snap = JSON.parse(fs.readFileSync(\"src/4-16-21_snapshot.json\"))\n",
        "const dat = snap.values.map(([q, n]) => module.exports.get_advice(q).then(advice => {\n",
        "  sorted = Object.keys(advice).sort((a, b) => advice[b]-advice[a])\n",
        "  return {question: q, responses: sorted.slice(0, n)}\n",
        "}))\n",
        "Promise.all(dat).then(arr => {\n",
        "  fs.writeFileSync(\"4-16-21_qa_data.json\", JSON.stringify(arr))\n",
        "})\n",
        "```\n",
        "This is what we refer to as the [QA Dataset](#qa-data) we collected"
      ]
    },
    {
      "cell_type": "markdown",
      "metadata": {
        "id": "InJQODKqmr6T"
      },
      "source": [
        "```javascript\n",
        "const snap = JSON.parse(fs.readFileSync(\"src/4-16-21_snapshot.json\"))\n",
        "const dat = snap.values.map(([q, n]) => module.exports.get_advice(q).then(advice => {\n",
        "  sorted = Object.keys(advice).sort((a, b) => advice[b]-advice[a])\n",
        "  return {question: q, responses: sorted.slice(0, n)}\n",
        "}))\n",
        "Promise.all(dat).then(arr => {\n",
        "  fs.writeFileSync(\"4-16-21_qa_data.json\", JSON.stringify(arr))\n",
        "})\n",
        "```"
      ]
    },
    {
      "cell_type": "markdown",
      "metadata": {
        "id": "nHyJ8Ca0zvgp"
      },
      "source": [
        "## Bootstrap Attempt\n",
        "There are only $1045$ data points in [qa_data](#qa-data) and we can't show you any of them. To fix at least one of these we tried bootstrapping our data. We tried this via [Vamsi's Paraphrase Generator with T5](https://github.com/Vamsi995/Paraphrase-Generator)\n",
        "```python\n",
        "# We load it via HuggingFace's Transformers library\n",
        "from transformers import AutoTokenizer, AutoModelForSeq2SeqLM\n",
        "# Load the Paraphraser\n",
        "tokenizer = AutoTokenizer.from_pretrained(\"Vamsi/T5_Paraphrase_Paws\")  \n",
        "model = AutoModelForSeq2SeqLM.from_pretrained(\"Vamsi/T5_Paraphrase_Paws\")\n",
        "```\n",
        "Then we defined a method to paraphrase any given text input\n",
        "```python\n",
        "def paraphrase(text, n_samples=1):\n",
        "  # Encode the text\n",
        "  encoded = tokenizer.encode_plus(\n",
        "    'paraphrase: {} </s>'.format(text),\n",
        "    return_tensors='pt',\n",
        "    padding=True\n",
        "  )\n",
        "  # Generate the outputs\n",
        "  outputs = model.generate(\n",
        "    input_ids=encoded['input_ids'],\n",
        "    attention_mask=encoded['attention_mask'],\n",
        "    max_length=256,\n",
        "    do_sample=True,\n",
        "    top_k=200,\n",
        "    top_p=0.95,\n",
        "    early_stopping=True,\n",
        "    num_return_sequences=n_samples\n",
        "  )\n",
        "  # Decode the outputs and return\n",
        "  return [tokenizer.decode(out, skip_special_tokens=True, clean_up_tokenization_spaces=True) for out in outputs]\n",
        "```\n",
        "And we did a quick sanity check\n",
        "```python\n",
        "paraphrase('I am depressed about my dog', 10)\n",
        "```\n",
        "Which resulted in\n",
        "```\n",
        "[\"I'm depressed about my dog.\",\n",
        " 'I am depressed about my dog.',\n",
        " 'I am depressed about my dog.',\n",
        " 'I am depressed about my dog.',\n",
        " 'I am depressed over my dog.',\n",
        " 'I am depressed about my dog.',\n",
        " 'I am depressed by my dog.',\n",
        " 'Forget me, I am depressed about my dog.',\n",
        " 'I am depressed about my dog.',\n",
        " 'Ich am depressed over my dog.']\n",
        "```\n",
        "And made us immedietly stop this endeavour"
      ]
    },
    {
      "cell_type": "markdown",
      "metadata": {
        "id": "_wwg1Qkwjyoy"
      },
      "source": [
        "## Creating Python API for Model\n",
        "In order to increase the runtime of the model we were going to create another web application that ran in Python in order to use the most efficient form of the tensor flow model.\n",
        "\n",
        "Below we can see some example output of that API.\n",
        "\n",
        "![output](data:image/png;base64,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)\n",
        "\n",
        "Here we can see a test of the development API where it takes a POST request with the JSON query “I need help” and returns the model’s output in JSON. This includes but is not limited to the top 10 results from the database along with the relative score. \n",
        "\n",
        "Unfortunately once we reached the deployment stage we found that the hardware used  (E5-2680 CPU) is too old for the Tensorflow model and this had to be scrapped as the only other option would be to downgrade the model which would both decrease the performance and accuracy. Ultimately, this problem defeated the purpose of having a separate API for speeding up the model\n",
        "\n",
        "Below is a screenshot of the issue\n",
        "\n",
        "![output2](data:image/png;base64,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)\n",
        "\n",
        "And below is the code we used for the API\n",
        "```python\n",
        "import flask\n",
        "from flask import request, jsonify\n",
        " \n",
        "import json\n",
        " \n",
        "from Q_and_A import ask\n",
        " \n",
        " \n",
        "app = flask.Flask(__name__)\n",
        "app.config[\"DEBUG\"] = True\n",
        " \n",
        " \n",
        " \n",
        "@app.route('/', methods=['GET'])\n",
        "def home():\n",
        "    return \"<h1>Distant Reading Archive</h1><p>This site is a prototype API for distant reading of science fiction novels.</p>\"\n",
        " \n",
        "@app.route('/', methods=['POST'])\n",
        "def get_data():\n",
        "    if not request.json or not 'query' in request.json:\n",
        "        return \"Error: No id field provided. Please specify an query.\"\n",
        "        abort(400)\n",
        "    else:\n",
        "       results = ask(request.json[\"query\"])\n",
        "       \n",
        "       \n",
        " \n",
        " \n",
        "    # Use the jsonify function from Flask to convert our list of\n",
        "    # Python dictionaries to the JSON format.\n",
        "    n = 10\n",
        "    print(type(results))\n",
        " \n",
        "    return jsonify(results[:n])\n",
        " \n",
        "app.run()\n",
        " \n",
        " \n",
        "if __name__ == \"Main\":\n",
        "    print(\"hello world\")\n",
        "```"
      ]
    },
    {
      "cell_type": "markdown",
      "metadata": {
        "id": "qpBrL7CxC1_5"
      },
      "source": [
        "<a name=\"fine-tuneing\"></a>\n",
        "## Fine-Tuning the Model\n",
        "\n",
        "We tried to fine-tune the model but couldn't get it to work in time. Our training data completely messed up the weights. Below is the code we used\n",
        "```python\n",
        "model = tf.keras.Sequential([\n",
        "  hub.KerasLayer(module, input_shape=[], dtype=tf.string, trainable=True)\n",
        "])\n",
        "```\n",
        "To measure performance we made the assumption that the last piece of advice a user recieved in `qa_data` is the advice they expected\n",
        "```python\n",
        "a_data = [e['responses'][-1] for e in qa_data]\n",
        "true_vals = module.signatures['question_encoder'](tf.constant(a_data))['outputs']\n",
        "```\n",
        "We used `model.fit` to tune the model. Below is that code as well as the output of training\n",
        "```python\n",
        "model.fit(\n",
        "    x=tf.constant(q_data),\n",
        "    y=compare,\n",
        "    epochs=20,\n",
        "    validation_split=0.1\n",
        ")\n",
        "```\n",
        "```\n",
        "Epoch 1/20\n",
        "30/30 [==============================] - 68s 364ms/step - loss: -2.3807e-06 - binary_accuracy: 0.0000e+00 - val_loss: -2.6834e-05 - val_binary_accuracy: 0.0000e+00\n",
        "Epoch 2/20\n",
        "30/30 [==============================] - 6s 186ms/step - loss: -3.9893e-05 - binary_accuracy: 0.0000e+00 - val_loss: -5.4625e-05 - val_binary_accuracy: 0.0000e+00\n",
        "Epoch 3/20\n",
        "30/30 [==============================] - 6s 187ms/step - loss: -6.5641e-05 - binary_accuracy: 0.0000e+00 - val_loss: -6.0527e-05 - val_binary_accuracy: 0.0000e+00\n",
        "Epoch 4/20\n",
        "30/30 [==============================] - 6s 186ms/step - loss: -6.5619e-05 - binary_accuracy: 0.0000e+00 - val_loss: -6.1459e-05 - val_binary_accuracy: 0.0000e+00\n",
        "Epoch 5/20\n",
        "30/30 [==============================] - 6s 185ms/step - loss: -6.6076e-05 - binary_accuracy: 0.0000e+00 - val_loss: -6.1759e-05 - val_binary_accuracy: 0.0000e+00\n",
        "Epoch 6/20\n",
        "30/30 [==============================] - 6s 186ms/step - loss: -6.6957e-05 - binary_accuracy: 0.0000e+00 - val_loss: -6.1890e-05 - val_binary_accuracy: 0.0000e+00\n",
        "Epoch 7/20\n",
        "30/30 [==============================] - 6s 185ms/step - loss: -7.2910e-05 - binary_accuracy: 0.0000e+00 - val_loss: -6.1958e-05 - val_binary_accuracy: 0.0000e+00\n",
        "Epoch 8/20\n",
        "30/30 [==============================] - 6s 184ms/step - loss: -7.0944e-05 - binary_accuracy: 0.0000e+00 - val_loss: -6.2004e-05 - val_binary_accuracy: 0.0000e+00\n",
        "Epoch 9/20\n",
        "30/30 [==============================] - 6s 186ms/step - loss: -6.9568e-05 - binary_accuracy: 0.0000e+00 - val_loss: -6.2038e-05 - val_binary_accuracy: 0.0000e+00\n",
        "Epoch 10/20\n",
        "30/30 [==============================] - 6s 186ms/step - loss: -6.8461e-05 - binary_accuracy: 0.0000e+00 - val_loss: -6.2063e-05 - val_binary_accuracy: 0.0000e+00\n",
        "Epoch 11/20\n",
        "30/30 [==============================] - 6s 186ms/step - loss: -7.0408e-05 - binary_accuracy: 0.0000e+00 - val_loss: -6.2083e-05 - val_binary_accuracy: 0.0000e+00\n",
        "Epoch 12/20\n",
        "30/30 [==============================] - 6s 186ms/step - loss: -6.8516e-05 - binary_accuracy: 0.0000e+00 - val_loss: -6.2099e-05 - val_binary_accuracy: 0.0000e+00\n",
        "Epoch 13/20\n",
        "30/30 [==============================] - 6s 187ms/step - loss: -6.8834e-05 - binary_accuracy: 0.0000e+00 - val_loss: -6.2112e-05 - val_binary_accuracy: 0.0000e+00\n",
        "Epoch 14/20\n",
        "30/30 [==============================] - 6s 184ms/step - loss: -6.9079e-05 - binary_accuracy: 0.0000e+00 - val_loss: -6.2122e-05 - val_binary_accuracy: 0.0000e+00\n",
        "Epoch 15/20\n",
        "30/30 [==============================] - 6s 186ms/step - loss: -6.9597e-05 - binary_accuracy: 0.0000e+00 - val_loss: -6.2130e-05 - val_binary_accuracy: 0.0000e+00\n",
        "Epoch 16/20\n",
        "30/30 [==============================] - 6s 184ms/step - loss: -7.0504e-05 - binary_accuracy: 0.0000e+00 - val_loss: -6.2137e-05 - val_binary_accuracy: 0.0000e+00\n",
        "Epoch 17/20\n",
        "30/30 [==============================] - 6s 185ms/step - loss: -7.0547e-05 - binary_accuracy: 0.0000e+00 - val_loss: -6.2143e-05 - val_binary_accuracy: 0.0000e+00\n",
        "Epoch 18/20\n",
        "30/30 [==============================] - 6s 188ms/step - loss: -7.2007e-05 - binary_accuracy: 0.0000e+00 - val_loss: -6.2149e-05 - val_binary_accuracy: 0.0000e+00\n",
        "Epoch 19/20\n",
        "30/30 [==============================] - 6s 185ms/step - loss: -7.1259e-05 - binary_accuracy: 0.0000e+00 - val_loss: -6.2153e-05 - val_binary_accuracy: 0.0000e+00\n",
        "Epoch 20/20\n",
        "30/30 [==============================] - 6s 185ms/step - loss: -7.1205e-05 - binary_accuracy: 0.0000e+00 - val_loss: -6.2157e-05 - val_binary_accuracy: 0.0000e+00\n",
        "<tensorflow.python.keras.callbacks.History at 0x7f278b659350>\n",
        "```"
      ]
    }
  ]
}